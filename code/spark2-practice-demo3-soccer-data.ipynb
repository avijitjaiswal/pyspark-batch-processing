{
 "cells": [
  {
   "cell_type": "code",
   "execution_count": 2,
   "id": "c295cc12",
   "metadata": {},
   "outputs": [],
   "source": [
    "players = spark.read\\\n",
    "            .format(\"csv\")\\\n",
    "            .option(\"header\",\"true\")\\\n",
    "            .load(\"../datasets/player.csv\")"
   ]
  },
  {
   "cell_type": "code",
   "execution_count": 5,
   "id": "859cc8dc",
   "metadata": {},
   "outputs": [
    {
     "name": "stdout",
     "output_type": "stream",
     "text": [
      "root\n",
      " |-- id: string (nullable = true)\n",
      " |-- player_api_id: string (nullable = true)\n",
      " |-- player_name: string (nullable = true)\n",
      " |-- player_fifa_api_id: string (nullable = true)\n",
      " |-- birthday: string (nullable = true)\n",
      " |-- height: string (nullable = true)\n",
      " |-- weight: string (nullable = true)\n",
      "\n"
     ]
    }
   ],
   "source": [
    "players.printSchema()"
   ]
  },
  {
   "cell_type": "code",
   "execution_count": 8,
   "id": "a22ce5c6",
   "metadata": {},
   "outputs": [
    {
     "name": "stdout",
     "output_type": "stream",
     "text": [
      "+---+-------------+------------------+------------------+-------------------+------+------+\n",
      "| id|player_api_id|       player_name|player_fifa_api_id|           birthday|height|weight|\n",
      "+---+-------------+------------------+------------------+-------------------+------+------+\n",
      "|  1|       505942|Aaron Appindangoye|            218353|1992-02-29 00:00:00|182.88|   187|\n",
      "|  2|       155782|   Aaron Cresswell|            189615|1989-12-15 00:00:00|170.18|   146|\n",
      "|  3|       162549|       Aaron Doran|            186170|1991-05-13 00:00:00|170.18|   163|\n",
      "|  4|        30572|     Aaron Galindo|            140161|1982-05-08 00:00:00|182.88|   198|\n",
      "|  5|        23780|      Aaron Hughes|             17725|1979-11-08 00:00:00|182.88|   154|\n",
      "|  6|        27316|        Aaron Hunt|            158138|1986-09-04 00:00:00|182.88|   161|\n",
      "|  7|       564793|        Aaron Kuhl|            221280|1996-01-30 00:00:00|172.72|   146|\n",
      "|  8|        30895|      Aaron Lennon|            152747|1987-04-16 00:00:00| 165.1|   139|\n",
      "|  9|       528212|      Aaron Lennox|            206592|1993-02-19 00:00:00| 190.5|   181|\n",
      "| 10|       101042|     Aaron Meijers|            188621|1987-10-28 00:00:00|175.26|   170|\n",
      "+---+-------------+------------------+------------------+-------------------+------+------+\n",
      "only showing top 10 rows\n",
      "\n"
     ]
    }
   ],
   "source": [
    "players.show(10)"
   ]
  },
  {
   "cell_type": "code",
   "execution_count": 9,
   "id": "d6c3222d",
   "metadata": {},
   "outputs": [],
   "source": [
    "player_attributes = spark.read\\\n",
    "            .format(\"csv\")\\\n",
    "            .option(\"header\",\"true\")\\\n",
    "            .load(\"../datasets/player_attributes.csv\")"
   ]
  },
  {
   "cell_type": "code",
   "execution_count": 10,
   "id": "0ae0c27c",
   "metadata": {},
   "outputs": [
    {
     "name": "stdout",
     "output_type": "stream",
     "text": [
      "root\n",
      " |-- id: string (nullable = true)\n",
      " |-- player_fifa_api_id: string (nullable = true)\n",
      " |-- player_api_id: string (nullable = true)\n",
      " |-- date: string (nullable = true)\n",
      " |-- overall_rating: string (nullable = true)\n",
      " |-- potential: string (nullable = true)\n",
      " |-- preferred_foot: string (nullable = true)\n",
      " |-- attacking_work_rate: string (nullable = true)\n",
      " |-- defensive_work_rate: string (nullable = true)\n",
      " |-- crossing: string (nullable = true)\n",
      " |-- finishing: string (nullable = true)\n",
      " |-- heading_accuracy: string (nullable = true)\n",
      " |-- short_passing: string (nullable = true)\n",
      " |-- volleys: string (nullable = true)\n",
      " |-- dribbling: string (nullable = true)\n",
      " |-- curve: string (nullable = true)\n",
      " |-- free_kick_accuracy: string (nullable = true)\n",
      " |-- long_passing: string (nullable = true)\n",
      " |-- ball_control: string (nullable = true)\n",
      " |-- acceleration: string (nullable = true)\n",
      " |-- sprint_speed: string (nullable = true)\n",
      " |-- agility: string (nullable = true)\n",
      " |-- reactions: string (nullable = true)\n",
      " |-- balance: string (nullable = true)\n",
      " |-- shot_power: string (nullable = true)\n",
      " |-- jumping: string (nullable = true)\n",
      " |-- stamina: string (nullable = true)\n",
      " |-- strength: string (nullable = true)\n",
      " |-- long_shots: string (nullable = true)\n",
      " |-- aggression: string (nullable = true)\n",
      " |-- interceptions: string (nullable = true)\n",
      " |-- positioning: string (nullable = true)\n",
      " |-- vision: string (nullable = true)\n",
      " |-- penalties: string (nullable = true)\n",
      " |-- marking: string (nullable = true)\n",
      " |-- standing_tackle: string (nullable = true)\n",
      " |-- sliding_tackle: string (nullable = true)\n",
      " |-- gk_diving: string (nullable = true)\n",
      " |-- gk_handling: string (nullable = true)\n",
      " |-- gk_kicking: string (nullable = true)\n",
      " |-- gk_positioning: string (nullable = true)\n",
      " |-- gk_reflexes: string (nullable = true)\n",
      "\n"
     ]
    }
   ],
   "source": [
    "player_attributes.printSchema()"
   ]
  },
  {
   "cell_type": "code",
   "execution_count": 11,
   "id": "299b9b6e",
   "metadata": {},
   "outputs": [
    {
     "name": "stdout",
     "output_type": "stream",
     "text": [
      "+---+------------------+-------------+-------------------+--------------+---------+--------------+-------------------+-------------------+--------+---------+----------------+-------------+-------+---------+-----+------------------+------------+------------+------------+------------+-------+---------+-------+----------+-------+-------+--------+----------+----------+-------------+-----------+------+---------+-------+---------------+--------------+---------+-----------+----------+--------------+-----------+\n",
      "| id|player_fifa_api_id|player_api_id|               date|overall_rating|potential|preferred_foot|attacking_work_rate|defensive_work_rate|crossing|finishing|heading_accuracy|short_passing|volleys|dribbling|curve|free_kick_accuracy|long_passing|ball_control|acceleration|sprint_speed|agility|reactions|balance|shot_power|jumping|stamina|strength|long_shots|aggression|interceptions|positioning|vision|penalties|marking|standing_tackle|sliding_tackle|gk_diving|gk_handling|gk_kicking|gk_positioning|gk_reflexes|\n",
      "+---+------------------+-------------+-------------------+--------------+---------+--------------+-------------------+-------------------+--------+---------+----------------+-------------+-------+---------+-----+------------------+------------+------------+------------+------------+-------+---------+-------+----------+-------+-------+--------+----------+----------+-------------+-----------+------+---------+-------+---------------+--------------+---------+-----------+----------+--------------+-----------+\n",
      "|  1|            218353|       505942|2016-02-18 00:00:00|            67|       71|         right|             medium|             medium|      49|       44|              71|           61|     44|       51|   45|                39|          64|          49|          60|          64|     59|       47|     65|        55|     58|     54|      76|        35|        71|           70|         45|    54|       48|     65|             69|            69|        6|         11|        10|             8|          8|\n",
      "|  2|            218353|       505942|2015-11-19 00:00:00|            67|       71|         right|             medium|             medium|      49|       44|              71|           61|     44|       51|   45|                39|          64|          49|          60|          64|     59|       47|     65|        55|     58|     54|      76|        35|        71|           70|         45|    54|       48|     65|             69|            69|        6|         11|        10|             8|          8|\n",
      "|  3|            218353|       505942|2015-09-21 00:00:00|            62|       66|         right|             medium|             medium|      49|       44|              71|           61|     44|       51|   45|                39|          64|          49|          60|          64|     59|       47|     65|        55|     58|     54|      76|        35|        63|           41|         45|    54|       48|     65|             66|            69|        6|         11|        10|             8|          8|\n",
      "|  4|            218353|       505942|2015-03-20 00:00:00|            61|       65|         right|             medium|             medium|      48|       43|              70|           60|     43|       50|   44|                38|          63|          48|          60|          64|     59|       46|     65|        54|     58|     54|      76|        34|        62|           40|         44|    53|       47|     62|             63|            66|        5|         10|         9|             7|          7|\n",
      "|  5|            218353|       505942|2007-02-22 00:00:00|            61|       65|         right|             medium|             medium|      48|       43|              70|           60|     43|       50|   44|                38|          63|          48|          60|          64|     59|       46|     65|        54|     58|     54|      76|        34|        62|           40|         44|    53|       47|     62|             63|            66|        5|         10|         9|             7|          7|\n",
      "+---+------------------+-------------+-------------------+--------------+---------+--------------+-------------------+-------------------+--------+---------+----------------+-------------+-------+---------+-----+------------------+------------+------------+------------+------------+-------+---------+-------+----------+-------+-------+--------+----------+----------+-------------+-----------+------+---------+-------+---------------+--------------+---------+-----------+----------+--------------+-----------+\n",
      "only showing top 5 rows\n",
      "\n"
     ]
    }
   ],
   "source": [
    "player_attributes.show(5)"
   ]
  },
  {
   "cell_type": "code",
   "execution_count": 13,
   "id": "f09ba8d9",
   "metadata": {},
   "outputs": [
    {
     "data": {
      "text/plain": [
       "(11060, 183978)"
      ]
     },
     "execution_count": 13,
     "metadata": {},
     "output_type": "execute_result"
    }
   ],
   "source": [
    "players.count() , player_attributes.count()"
   ]
  },
  {
   "cell_type": "code",
   "execution_count": 14,
   "id": "3683dc2e",
   "metadata": {},
   "outputs": [
    {
     "data": {
      "text/plain": [
       "11060"
      ]
     },
     "execution_count": 14,
     "metadata": {},
     "output_type": "execute_result"
    }
   ],
   "source": [
    "player_attributes.select(\"player_api_id\")\\\n",
    "                    .distinct()\\\n",
    "                    .count()"
   ]
  },
  {
   "cell_type": "code",
   "execution_count": 16,
   "id": "eacc6d12",
   "metadata": {},
   "outputs": [
    {
     "data": {
      "text/plain": [
       "['player_api_id', 'player_name', 'birthday', 'height', 'weight']"
      ]
     },
     "execution_count": 16,
     "metadata": {},
     "output_type": "execute_result"
    }
   ],
   "source": [
    "players = players.drop(\"id\",\"player_fifa_api_id\")\n",
    "players.columns"
   ]
  },
  {
   "cell_type": "code",
   "execution_count": 17,
   "id": "0caf4b23",
   "metadata": {},
   "outputs": [
    {
     "data": {
      "text/plain": [
       "['id',\n",
       " 'player_fifa_api_id',\n",
       " 'player_api_id',\n",
       " 'date',\n",
       " 'overall_rating',\n",
       " 'potential',\n",
       " 'preferred_foot',\n",
       " 'attacking_work_rate',\n",
       " 'defensive_work_rate',\n",
       " 'crossing',\n",
       " 'finishing',\n",
       " 'heading_accuracy',\n",
       " 'short_passing',\n",
       " 'volleys',\n",
       " 'dribbling',\n",
       " 'curve',\n",
       " 'free_kick_accuracy',\n",
       " 'long_passing',\n",
       " 'ball_control',\n",
       " 'acceleration',\n",
       " 'sprint_speed',\n",
       " 'agility',\n",
       " 'reactions',\n",
       " 'balance',\n",
       " 'shot_power',\n",
       " 'jumping',\n",
       " 'stamina',\n",
       " 'strength',\n",
       " 'long_shots',\n",
       " 'aggression',\n",
       " 'interceptions',\n",
       " 'positioning',\n",
       " 'vision',\n",
       " 'penalties',\n",
       " 'marking',\n",
       " 'standing_tackle',\n",
       " 'sliding_tackle',\n",
       " 'gk_diving',\n",
       " 'gk_handling',\n",
       " 'gk_kicking',\n",
       " 'gk_positioning',\n",
       " 'gk_reflexes']"
      ]
     },
     "execution_count": 17,
     "metadata": {},
     "output_type": "execute_result"
    }
   ],
   "source": [
    "player_attributes.columns"
   ]
  },
  {
   "cell_type": "code",
   "execution_count": 18,
   "id": "7ae4dcd5",
   "metadata": {},
   "outputs": [
    {
     "data": {
      "text/plain": [
       "['player_api_id',\n",
       " 'date',\n",
       " 'overall_rating',\n",
       " 'finishing',\n",
       " 'heading_accuracy',\n",
       " 'volleys',\n",
       " 'dribbling',\n",
       " 'curve',\n",
       " 'free_kick_accuracy',\n",
       " 'long_passing',\n",
       " 'ball_control',\n",
       " 'acceleration',\n",
       " 'agility',\n",
       " 'reactions',\n",
       " 'shot_power',\n",
       " 'stamina',\n",
       " 'strength',\n",
       " 'long_shots',\n",
       " 'interceptions',\n",
       " 'positioning',\n",
       " 'vision',\n",
       " 'penalties',\n",
       " 'marking',\n",
       " 'standing_tackle',\n",
       " 'sliding_tackle',\n",
       " 'gk_diving',\n",
       " 'gk_handling',\n",
       " 'gk_kicking',\n",
       " 'gk_positioning',\n",
       " 'gk_reflexes']"
      ]
     },
     "execution_count": 18,
     "metadata": {},
     "output_type": "execute_result"
    }
   ],
   "source": [
    "player_attributes = player_attributes.drop(\n",
    "        'id',\n",
    "         'player_fifa_api_id',\n",
    "        'preferred_foot',\n",
    "         'attacking_work_rate',\n",
    "         'defensive_work_rate',\n",
    "         'crossing',\n",
    "        'jumping',\n",
    "        'sprint_speed',\n",
    "        'balance',\n",
    "        'aggression',\n",
    "        'short_passing',\n",
    "        'potential'\n",
    ")\n",
    "player_attributes.columns"
   ]
  },
  {
   "cell_type": "code",
   "execution_count": 19,
   "id": "37486cba",
   "metadata": {},
   "outputs": [],
   "source": [
    "player_attributes = player_attributes.dropna()\n",
    "players = players.dropna()"
   ]
  },
  {
   "cell_type": "code",
   "execution_count": 20,
   "id": "d48e0f4e",
   "metadata": {},
   "outputs": [
    {
     "data": {
      "text/plain": [
       "(11060, 181265)"
      ]
     },
     "execution_count": 20,
     "metadata": {},
     "output_type": "execute_result"
    }
   ],
   "source": [
    "players.count() , player_attributes.count()"
   ]
  },
  {
   "cell_type": "code",
   "execution_count": 21,
   "id": "ad796160",
   "metadata": {},
   "outputs": [],
   "source": [
    "from pyspark.sql.functions import udf"
   ]
  },
  {
   "cell_type": "code",
   "execution_count": 24,
   "id": "06e2100f",
   "metadata": {},
   "outputs": [],
   "source": [
    "year_extract_udf = udf(lambda date:date.split(\"-\")[0])"
   ]
  },
  {
   "cell_type": "code",
   "execution_count": 25,
   "id": "73987d0b",
   "metadata": {},
   "outputs": [
    {
     "name": "stdout",
     "output_type": "stream",
     "text": [
      "+-------------+-------------------+--------------+---------+----------------+-------+---------+-----+------------------+------------+------------+------------+-------+---------+----------+-------+--------+----------+-------------+-----------+------+---------+-------+---------------+--------------+---------+-----------+----------+--------------+-----------+----+\n",
      "|player_api_id|               date|overall_rating|finishing|heading_accuracy|volleys|dribbling|curve|free_kick_accuracy|long_passing|ball_control|acceleration|agility|reactions|shot_power|stamina|strength|long_shots|interceptions|positioning|vision|penalties|marking|standing_tackle|sliding_tackle|gk_diving|gk_handling|gk_kicking|gk_positioning|gk_reflexes|year|\n",
      "+-------------+-------------------+--------------+---------+----------------+-------+---------+-----+------------------+------------+------------+------------+-------+---------+----------+-------+--------+----------+-------------+-----------+------+---------+-------+---------------+--------------+---------+-----------+----------+--------------+-----------+----+\n",
      "|       505942|2016-02-18 00:00:00|            67|       44|              71|     44|       51|   45|                39|          64|          49|          60|     59|       47|        55|     54|      76|        35|           70|         45|    54|       48|     65|             69|            69|        6|         11|        10|             8|          8|2016|\n",
      "|       505942|2015-11-19 00:00:00|            67|       44|              71|     44|       51|   45|                39|          64|          49|          60|     59|       47|        55|     54|      76|        35|           70|         45|    54|       48|     65|             69|            69|        6|         11|        10|             8|          8|2015|\n",
      "|       505942|2015-09-21 00:00:00|            62|       44|              71|     44|       51|   45|                39|          64|          49|          60|     59|       47|        55|     54|      76|        35|           41|         45|    54|       48|     65|             66|            69|        6|         11|        10|             8|          8|2015|\n",
      "|       505942|2015-03-20 00:00:00|            61|       43|              70|     43|       50|   44|                38|          63|          48|          60|     59|       46|        54|     54|      76|        34|           40|         44|    53|       47|     62|             63|            66|        5|         10|         9|             7|          7|2015|\n",
      "|       505942|2007-02-22 00:00:00|            61|       43|              70|     43|       50|   44|                38|          63|          48|          60|     59|       46|        54|     54|      76|        34|           40|         44|    53|       47|     62|             63|            66|        5|         10|         9|             7|          7|2007|\n",
      "+-------------+-------------------+--------------+---------+----------------+-------+---------+-----+------------------+------------+------------+------------+-------+---------+----------+-------+--------+----------+-------------+-----------+------+---------+-------+---------------+--------------+---------+-----------+----------+--------------+-----------+----+\n",
      "only showing top 5 rows\n",
      "\n"
     ]
    }
   ],
   "source": [
    "player_attributes = player_attributes.withColumn(\n",
    "            \"year\",\n",
    "            year_extract_udf(player_attributes.date)\n",
    ")\n",
    "player_attributes.show(5)"
   ]
  },
  {
   "cell_type": "code",
   "execution_count": 26,
   "id": "5eaecf29",
   "metadata": {},
   "outputs": [
    {
     "name": "stdout",
     "output_type": "stream",
     "text": [
      "root\n",
      " |-- player_api_id: string (nullable = true)\n",
      " |-- overall_rating: string (nullable = true)\n",
      " |-- finishing: string (nullable = true)\n",
      " |-- heading_accuracy: string (nullable = true)\n",
      " |-- volleys: string (nullable = true)\n",
      " |-- dribbling: string (nullable = true)\n",
      " |-- curve: string (nullable = true)\n",
      " |-- free_kick_accuracy: string (nullable = true)\n",
      " |-- long_passing: string (nullable = true)\n",
      " |-- ball_control: string (nullable = true)\n",
      " |-- acceleration: string (nullable = true)\n",
      " |-- agility: string (nullable = true)\n",
      " |-- reactions: string (nullable = true)\n",
      " |-- shot_power: string (nullable = true)\n",
      " |-- stamina: string (nullable = true)\n",
      " |-- strength: string (nullable = true)\n",
      " |-- long_shots: string (nullable = true)\n",
      " |-- interceptions: string (nullable = true)\n",
      " |-- positioning: string (nullable = true)\n",
      " |-- vision: string (nullable = true)\n",
      " |-- penalties: string (nullable = true)\n",
      " |-- marking: string (nullable = true)\n",
      " |-- standing_tackle: string (nullable = true)\n",
      " |-- sliding_tackle: string (nullable = true)\n",
      " |-- gk_diving: string (nullable = true)\n",
      " |-- gk_handling: string (nullable = true)\n",
      " |-- gk_kicking: string (nullable = true)\n",
      " |-- gk_positioning: string (nullable = true)\n",
      " |-- gk_reflexes: string (nullable = true)\n",
      " |-- year: string (nullable = true)\n",
      "\n"
     ]
    }
   ],
   "source": [
    "player_attributes = player_attributes.drop(\"date\")\n",
    "player_attributes.printSchema()"
   ]
  },
  {
   "cell_type": "code",
   "execution_count": 27,
   "id": "d53d8d08",
   "metadata": {},
   "outputs": [],
   "source": [
    "pa_2016 = player_attributes.filter(player_attributes[\"year\"] == \"2016\")"
   ]
  },
  {
   "cell_type": "code",
   "execution_count": 32,
   "id": "e815de3b",
   "metadata": {},
   "outputs": [
    {
     "data": {
      "text/plain": [
       "5586"
      ]
     },
     "execution_count": 32,
     "metadata": {},
     "output_type": "execute_result"
    }
   ],
   "source": [
    "pa_2016.select(pa_2016.player_api_id)\\\n",
    "        .distinct()\\\n",
    "        .count()"
   ]
  },
  {
   "cell_type": "code",
   "execution_count": 41,
   "id": "0a7800bb",
   "metadata": {},
   "outputs": [
    {
     "name": "stdout",
     "output_type": "stream",
     "text": [
      "+-------------+-----------------+-----------------+----------+\n",
      "|player_api_id|        finishing|     acceleration|shot_power|\n",
      "+-------------+-----------------+-----------------+----------+\n",
      "|       309726|75.44444444444444|74.11111111111111|      76.0|\n",
      "|        26112|             53.0|             51.0|      76.0|\n",
      "|        38433|            68.25|             74.0|      74.0|\n",
      "|       295060|             25.0|             62.0|      40.0|\n",
      "|       161396|             29.0|             72.0|      69.0|\n",
      "+-------------+-----------------+-----------------+----------+\n",
      "only showing top 5 rows\n",
      "\n"
     ]
    }
   ],
   "source": [
    "pa_striker_2016 = pa_2016.groupBy(pa_2016.player_api_id)\\\n",
    "                        .agg(\n",
    "                            {\"finishing\" : \"avg\",\\\n",
    "                            \"shot_power\" : \"avg\",\\\n",
    "                            \"acceleration\" : \"avg\"},\\\n",
    "                        )\\\n",
    "                        .withColumnRenamed(\"avg(finishing)\",\"finishing\")\\\n",
    "                        .withColumnRenamed(\"avg(shot_power)\",\"shot_power\")\\\n",
    "                        .withColumnRenamed(\"avg(acceleration)\",\"acceleration\")\n",
    "pa_striker_2016.show(5)"
   ]
  },
  {
   "cell_type": "code",
   "execution_count": 42,
   "id": "da9eb8b0",
   "metadata": {},
   "outputs": [],
   "source": [
    "weight_finishing = 1\n",
    "weight_shot_power = 2\n",
    "weight_acceleration = 1\n",
    "total_weight = weight_finishing + weight_shot_power + weight_acceleration"
   ]
  },
  {
   "cell_type": "code",
   "execution_count": 45,
   "id": "421e8ec3",
   "metadata": {},
   "outputs": [],
   "source": [
    "strikers = pa_striker_2016.withColumn(\"striker_grade\",\n",
    "                                     (pa_striker_2016.finishing * weight_finishing + \\\n",
    "                                      pa_striker_2016.acceleration * weight_acceleration + \\\n",
    "                                      pa_striker_2016.shot_power * weight_shot_power \\\n",
    "                                     )/total_weight)"
   ]
  },
  {
   "cell_type": "code",
   "execution_count": 47,
   "id": "53f98046",
   "metadata": {},
   "outputs": [
    {
     "data": {
      "text/plain": [
       "5586"
      ]
     },
     "execution_count": 47,
     "metadata": {},
     "output_type": "execute_result"
    }
   ],
   "source": [
    "strikers.count()"
   ]
  },
  {
   "cell_type": "code",
   "execution_count": 49,
   "id": "c1197f2c",
   "metadata": {},
   "outputs": [
    {
     "name": "stdout",
     "output_type": "stream",
     "text": [
      "+-------------+-----------------+------------+----------+-----------------+\n",
      "|player_api_id|        finishing|acceleration|shot_power|    striker_grade|\n",
      "+-------------+-----------------+------------+----------+-----------------+\n",
      "|        20276|             85.0|        84.0|      94.0|            89.25|\n",
      "|        37412|             90.0|        92.0|      87.0|             89.0|\n",
      "|        38817|             88.0|        90.0|      88.5|            88.75|\n",
      "|        32118|             85.0|        82.0|      93.0|            88.25|\n",
      "|        31921|             81.0|        93.0|      87.0|             87.0|\n",
      "|        30834|             85.0|        90.0|      86.0|            86.75|\n",
      "|       303824|73.42857142857143|        91.0|      88.0|85.10714285714286|\n",
      "|       129944|             83.0|        89.0|      84.0|             85.0|\n",
      "|       158263|             77.0|        90.0|      86.0|            84.75|\n",
      "|       150565|             88.0|        95.0|      78.0|            84.75|\n",
      "+-------------+-----------------+------------+----------+-----------------+\n",
      "only showing top 10 rows\n",
      "\n"
     ]
    }
   ],
   "source": [
    "strikers.orderBy(strikers.striker_grade.desc()).show(10)"
   ]
  },
  {
   "cell_type": "code",
   "execution_count": 50,
   "id": "131620cc",
   "metadata": {},
   "outputs": [],
   "source": [
    "strikers=strikers.drop(\"finishing\",\"\",\"acceleration\",\"shot_power\")"
   ]
  },
  {
   "cell_type": "code",
   "execution_count": 51,
   "id": "488c0f3c",
   "metadata": {},
   "outputs": [
    {
     "name": "stdout",
     "output_type": "stream",
     "text": [
      "+-------------+-----------------+\n",
      "|player_api_id|    striker_grade|\n",
      "+-------------+-----------------+\n",
      "|        20276|            89.25|\n",
      "|        37412|             89.0|\n",
      "|        38817|            88.75|\n",
      "|        32118|            88.25|\n",
      "|        31921|             87.0|\n",
      "|        30834|            86.75|\n",
      "|       303824|85.10714285714286|\n",
      "|       129944|             85.0|\n",
      "|       150565|            84.75|\n",
      "|       158263|            84.75|\n",
      "+-------------+-----------------+\n",
      "only showing top 10 rows\n",
      "\n"
     ]
    }
   ],
   "source": [
    "strikers.orderBy(strikers.striker_grade.desc()).show(10)"
   ]
  },
  {
   "cell_type": "code",
   "execution_count": 52,
   "id": "848fee14",
   "metadata": {},
   "outputs": [
    {
     "name": "stdout",
     "output_type": "stream",
     "text": [
      "+-------------+-----------------+\n",
      "|player_api_id|    striker_grade|\n",
      "+-------------+-----------------+\n",
      "|        20276|            89.25|\n",
      "|        37412|             89.0|\n",
      "|        38817|            88.75|\n",
      "|        32118|            88.25|\n",
      "|        31921|             87.0|\n",
      "|        30834|            86.75|\n",
      "|       303824|85.10714285714286|\n",
      "|       129944|             85.0|\n",
      "|       150565|            84.75|\n",
      "|       158263|            84.75|\n",
      "+-------------+-----------------+\n",
      "only showing top 10 rows\n",
      "\n"
     ]
    }
   ],
   "source": [
    "strikers = strikers.filter(strikers.striker_grade > 70)\\\n",
    "                    .sort(strikers.striker_grade.desc())\n",
    "strikers.show(10)"
   ]
  },
  {
   "cell_type": "code",
   "execution_count": 53,
   "id": "d3d38b45",
   "metadata": {},
   "outputs": [
    {
     "data": {
      "text/plain": [
       "(1609, 11060)"
      ]
     },
     "execution_count": 53,
     "metadata": {},
     "output_type": "execute_result"
    }
   ],
   "source": [
    "strikers.count(),players.count()"
   ]
  },
  {
   "cell_type": "code",
   "execution_count": 54,
   "id": "ab18bd66",
   "metadata": {},
   "outputs": [
    {
     "name": "stdout",
     "output_type": "stream",
     "text": [
      "+-------------+------------------+-------------------+------+------+\n",
      "|player_api_id|       player_name|           birthday|height|weight|\n",
      "+-------------+------------------+-------------------+------+------+\n",
      "|       505942|Aaron Appindangoye|1992-02-29 00:00:00|182.88|   187|\n",
      "+-------------+------------------+-------------------+------+------+\n",
      "only showing top 1 row\n",
      "\n"
     ]
    }
   ],
   "source": [
    "players.show(1)"
   ]
  },
  {
   "cell_type": "code",
   "execution_count": 55,
   "id": "3ddfbe66",
   "metadata": {},
   "outputs": [
    {
     "data": {
      "text/plain": [
       "['player_api_id',\n",
       " 'player_name',\n",
       " 'birthday',\n",
       " 'height',\n",
       " 'weight',\n",
       " 'player_api_id',\n",
       " 'striker_grade']"
      ]
     },
     "execution_count": 55,
     "metadata": {},
     "output_type": "execute_result"
    }
   ],
   "source": [
    "striker_details = players.join(strikers,players.player_api_id == strikers.player_api_id)\n",
    "striker_details.columns"
   ]
  },
  {
   "cell_type": "code",
   "execution_count": 56,
   "id": "93b84705",
   "metadata": {},
   "outputs": [
    {
     "data": {
      "text/plain": [
       "1609"
      ]
     },
     "execution_count": 56,
     "metadata": {},
     "output_type": "execute_result"
    }
   ],
   "source": [
    "striker_details.count()"
   ]
  },
  {
   "cell_type": "code",
   "execution_count": 57,
   "id": "474ca4a4",
   "metadata": {},
   "outputs": [
    {
     "data": {
      "text/plain": [
       "['player_api_id',\n",
       " 'player_name',\n",
       " 'birthday',\n",
       " 'height',\n",
       " 'weight',\n",
       " 'striker_grade']"
      ]
     },
     "execution_count": 57,
     "metadata": {},
     "output_type": "execute_result"
    }
   ],
   "source": [
    "striker_details = players.join(strikers,[\"player_api_id\"])\n",
    "striker_details.columns"
   ]
  },
  {
   "cell_type": "code",
   "execution_count": 58,
   "id": "b3b059ad",
   "metadata": {},
   "outputs": [
    {
     "data": {
      "text/plain": [
       "1609"
      ]
     },
     "execution_count": 58,
     "metadata": {},
     "output_type": "execute_result"
    }
   ],
   "source": [
    "striker_details.count()"
   ]
  },
  {
   "cell_type": "code",
   "execution_count": 60,
   "id": "e8aa15f1",
   "metadata": {},
   "outputs": [
    {
     "name": "stdout",
     "output_type": "stream",
     "text": [
      "+-------------+--------------+-------------------+------+------+-------------+\n",
      "|player_api_id|   player_name|           birthday|height|weight|striker_grade|\n",
      "+-------------+--------------+-------------------+------+------+-------------+\n",
      "|        20276|          Hulk|1986-07-25 00:00:00|180.34|   187|        89.25|\n",
      "|        37412| Sergio Aguero|1988-06-02 00:00:00|172.72|   163|         89.0|\n",
      "|        38817|  Carlos Tevez|1984-02-05 00:00:00|172.72|   157|        88.75|\n",
      "|        32118|Lukas Podolski|1985-06-04 00:00:00|182.88|   183|        88.25|\n",
      "|        31921|   Gareth Bale|1989-07-16 00:00:00|182.88|   163|         87.0|\n",
      "+-------------+--------------+-------------------+------+------+-------------+\n",
      "only showing top 5 rows\n",
      "\n"
     ]
    }
   ],
   "source": [
    "striker_details.orderBy(striker_details.striker_grade.desc()).show(5)"
   ]
  },
  {
   "cell_type": "code",
   "execution_count": 61,
   "id": "9a5c9777",
   "metadata": {},
   "outputs": [],
   "source": [
    "from pyspark.sql.functions import broadcast"
   ]
  },
  {
   "cell_type": "code",
   "execution_count": 62,
   "id": "8b09f89d",
   "metadata": {},
   "outputs": [],
   "source": [
    "striker_details = players.select(\"player_api_id\",\"player_name\")\\\n",
    "                        .join(\n",
    "                            broadcast(strikers),\n",
    "                                [\"Player_api_id\"],\n",
    "                                \"inner\"\n",
    "                            )"
   ]
  },
  {
   "cell_type": "code",
   "execution_count": 63,
   "id": "c4b1f27c",
   "metadata": {},
   "outputs": [
    {
     "data": {
      "text/plain": [
       "1609"
      ]
     },
     "execution_count": 63,
     "metadata": {},
     "output_type": "execute_result"
    }
   ],
   "source": [
    "striker_details.count()"
   ]
  },
  {
   "cell_type": "code",
   "execution_count": 65,
   "id": "0c361f73",
   "metadata": {},
   "outputs": [
    {
     "name": "stdout",
     "output_type": "stream",
     "text": [
      "+-------------+--------------+-------------+\n",
      "|player_api_id|   player_name|striker_grade|\n",
      "+-------------+--------------+-------------+\n",
      "|        20276|          Hulk|        89.25|\n",
      "|        37412| Sergio Aguero|         89.0|\n",
      "|        38817|  Carlos Tevez|        88.75|\n",
      "|        32118|Lukas Podolski|        88.25|\n",
      "|        31921|   Gareth Bale|         87.0|\n",
      "+-------------+--------------+-------------+\n",
      "only showing top 5 rows\n",
      "\n"
     ]
    }
   ],
   "source": [
    "striker_details.sort(striker_details.striker_grade.desc()).show(5)"
   ]
  },
  {
   "cell_type": "code",
   "execution_count": 66,
   "id": "d4b51a9b",
   "metadata": {},
   "outputs": [
    {
     "data": {
      "text/plain": [
       "(11060, 181265)"
      ]
     },
     "execution_count": 66,
     "metadata": {},
     "output_type": "execute_result"
    }
   ],
   "source": [
    "players.count(), player_attributes.count()"
   ]
  },
  {
   "cell_type": "code",
   "execution_count": 67,
   "id": "e643f84f",
   "metadata": {},
   "outputs": [
    {
     "name": "stdout",
     "output_type": "stream",
     "text": [
      "+-------------+--------------------+-------------------+------+------+\n",
      "|player_api_id|         player_name|           birthday|height|weight|\n",
      "+-------------+--------------------+-------------------+------+------+\n",
      "|       505942|  Aaron Appindangoye|1992-02-29 00:00:00|182.88|   187|\n",
      "|       155782|     Aaron Cresswell|1989-12-15 00:00:00|170.18|   146|\n",
      "|       162549|         Aaron Doran|1991-05-13 00:00:00|170.18|   163|\n",
      "|        30572|       Aaron Galindo|1982-05-08 00:00:00|182.88|   198|\n",
      "|        23780|        Aaron Hughes|1979-11-08 00:00:00|182.88|   154|\n",
      "|        27316|          Aaron Hunt|1986-09-04 00:00:00|182.88|   161|\n",
      "|       564793|          Aaron Kuhl|1996-01-30 00:00:00|172.72|   146|\n",
      "|        30895|        Aaron Lennon|1987-04-16 00:00:00| 165.1|   139|\n",
      "|       528212|        Aaron Lennox|1993-02-19 00:00:00| 190.5|   181|\n",
      "|       101042|       Aaron Meijers|1987-10-28 00:00:00|175.26|   170|\n",
      "|        23889|       Aaron Mokoena|1980-11-25 00:00:00|182.88|   181|\n",
      "|       231592|          Aaron Mooy|1990-09-15 00:00:00|175.26|   150|\n",
      "|       163222|      Aaron Muirhead|1990-08-30 00:00:00|187.96|   168|\n",
      "|        40719|        Aaron Niguez|1989-04-26 00:00:00|170.18|   143|\n",
      "|        75489|        Aaron Ramsey|1990-12-26 00:00:00| 177.8|   154|\n",
      "|       597948|       Aaron Splaine|1996-10-13 00:00:00|172.72|   163|\n",
      "|       161644|Aaron Taylor-Sinc...|1991-04-08 00:00:00|182.88|   176|\n",
      "|        23499|     Aaron Wilbraham|1979-10-21 00:00:00| 190.5|   159|\n",
      "|       120919|   Aatif Chahechouhe|1986-07-02 00:00:00|175.26|   150|\n",
      "|        46447|           Abasse Ba|1976-07-12 00:00:00|187.96|   185|\n",
      "+-------------+--------------------+-------------------+------+------+\n",
      "only showing top 20 rows\n",
      "\n"
     ]
    }
   ],
   "source": [
    "players.show()"
   ]
  },
  {
   "cell_type": "code",
   "execution_count": 68,
   "id": "1c2202fc",
   "metadata": {},
   "outputs": [
    {
     "name": "stdout",
     "output_type": "stream",
     "text": [
      "+-------------+--------------+---------+----------------+-------+---------+-----+------------------+------------+------------+------------+-------+---------+----------+-------+--------+----------+-------------+-----------+------+---------+-------+---------------+--------------+---------+-----------+----------+--------------+-----------+----+\n",
      "|player_api_id|overall_rating|finishing|heading_accuracy|volleys|dribbling|curve|free_kick_accuracy|long_passing|ball_control|acceleration|agility|reactions|shot_power|stamina|strength|long_shots|interceptions|positioning|vision|penalties|marking|standing_tackle|sliding_tackle|gk_diving|gk_handling|gk_kicking|gk_positioning|gk_reflexes|year|\n",
      "+-------------+--------------+---------+----------------+-------+---------+-----+------------------+------------+------------+------------+-------+---------+----------+-------+--------+----------+-------------+-----------+------+---------+-------+---------------+--------------+---------+-----------+----------+--------------+-----------+----+\n",
      "|       505942|            67|       44|              71|     44|       51|   45|                39|          64|          49|          60|     59|       47|        55|     54|      76|        35|           70|         45|    54|       48|     65|             69|            69|        6|         11|        10|             8|          8|2016|\n",
      "|       505942|            67|       44|              71|     44|       51|   45|                39|          64|          49|          60|     59|       47|        55|     54|      76|        35|           70|         45|    54|       48|     65|             69|            69|        6|         11|        10|             8|          8|2015|\n",
      "+-------------+--------------+---------+----------------+-------+---------+-----+------------------+------------+------------+------------+-------+---------+----------+-------+--------+----------+-------------+-----------+------+---------+-------+---------------+--------------+---------+-----------+----------+--------------+-----------+----+\n",
      "only showing top 2 rows\n",
      "\n"
     ]
    }
   ],
   "source": [
    "player_attributes.show(2)"
   ]
  },
  {
   "cell_type": "code",
   "execution_count": 69,
   "id": "69822960",
   "metadata": {},
   "outputs": [],
   "source": [
    "players_heading_acc = player_attributes.select(\"player_api_id\",\"heading_accuracy\")\\\n",
    "                                        .join(\n",
    "                                        broadcast(players),\n",
    "                                        [\"player_api_id\"],\n",
    "                                        \"inner\"\n",
    "                                        )"
   ]
  },
  {
   "cell_type": "code",
   "execution_count": 70,
   "id": "0e58a3b6",
   "metadata": {},
   "outputs": [
    {
     "data": {
      "text/plain": [
       "['player_api_id',\n",
       " 'heading_accuracy',\n",
       " 'player_name',\n",
       " 'birthday',\n",
       " 'height',\n",
       " 'weight']"
      ]
     },
     "execution_count": 70,
     "metadata": {},
     "output_type": "execute_result"
    }
   ],
   "source": [
    "players_heading_acc.columns"
   ]
  },
  {
   "cell_type": "code",
   "execution_count": 71,
   "id": "00d47e2e",
   "metadata": {},
   "outputs": [],
   "source": [
    "players_heading_acc = player_attributes.select(\"player_api_id\",\"heading_accuracy\")\\\n",
    "                                        .join(\n",
    "                                        broadcast(players),\n",
    "                                        players.player_api_id == player_attributes.player_api_id\n",
    "                                        )"
   ]
  },
  {
   "cell_type": "code",
   "execution_count": 72,
   "id": "d5c89371",
   "metadata": {},
   "outputs": [
    {
     "data": {
      "text/plain": [
       "['player_api_id',\n",
       " 'heading_accuracy',\n",
       " 'player_api_id',\n",
       " 'player_name',\n",
       " 'birthday',\n",
       " 'height',\n",
       " 'weight']"
      ]
     },
     "execution_count": 72,
     "metadata": {},
     "output_type": "execute_result"
    }
   ],
   "source": [
    "players_heading_acc.columns"
   ]
  },
  {
   "cell_type": "code",
   "execution_count": 73,
   "id": "dfbea90d",
   "metadata": {},
   "outputs": [
    {
     "data": {
      "text/plain": [
       "181265"
      ]
     },
     "execution_count": 73,
     "metadata": {},
     "output_type": "execute_result"
    }
   ],
   "source": [
    "players_heading_acc.count()"
   ]
  },
  {
   "cell_type": "code",
   "execution_count": 74,
   "id": "5f0d52a7",
   "metadata": {},
   "outputs": [],
   "source": [
    "short_count = spark.sparkContext.accumulator(0)\n",
    "medium_low_count = spark.sparkContext.accumulator(0)\n",
    "medium_high_count = spark.sparkContext.accumulator(0)\n",
    "tall_count = spark.sparkContext.accumulator(0)"
   ]
  },
  {
   "cell_type": "code",
   "execution_count": 78,
   "id": "1cf8998b",
   "metadata": {},
   "outputs": [],
   "source": [
    "def count_players_by_heights(row):\n",
    "    height = float(row.height)\n",
    "    if(height <= 175):\n",
    "        short_count.add(1)\n",
    "    elif(height > 175 and height<=183):\n",
    "        medium_low_count.add(1)\n",
    "    elif(height > 183 and height<=195):\n",
    "        medium_high_count.add(1)\n",
    "    elif(height>195):\n",
    "        tall_count.add(1)"
   ]
  },
  {
   "cell_type": "code",
   "execution_count": 79,
   "id": "5323181f",
   "metadata": {},
   "outputs": [
    {
     "name": "stdout",
     "output_type": "stream",
     "text": [
      "+-------------+----------------+-------------+------------------+-------------------+------+------+\n",
      "|player_api_id|heading_accuracy|player_api_id|       player_name|           birthday|height|weight|\n",
      "+-------------+----------------+-------------+------------------+-------------------+------+------+\n",
      "|       505942|              71|       505942|Aaron Appindangoye|1992-02-29 00:00:00|182.88|   187|\n",
      "|       505942|              71|       505942|Aaron Appindangoye|1992-02-29 00:00:00|182.88|   187|\n",
      "|       505942|              71|       505942|Aaron Appindangoye|1992-02-29 00:00:00|182.88|   187|\n",
      "|       505942|              70|       505942|Aaron Appindangoye|1992-02-29 00:00:00|182.88|   187|\n",
      "|       505942|              70|       505942|Aaron Appindangoye|1992-02-29 00:00:00|182.88|   187|\n",
      "|       155782|              58|       155782|   Aaron Cresswell|1989-12-15 00:00:00|170.18|   146|\n",
      "|       155782|              58|       155782|   Aaron Cresswell|1989-12-15 00:00:00|170.18|   146|\n",
      "|       155782|              57|       155782|   Aaron Cresswell|1989-12-15 00:00:00|170.18|   146|\n",
      "|       155782|              57|       155782|   Aaron Cresswell|1989-12-15 00:00:00|170.18|   146|\n",
      "|       155782|              57|       155782|   Aaron Cresswell|1989-12-15 00:00:00|170.18|   146|\n",
      "+-------------+----------------+-------------+------------------+-------------------+------+------+\n",
      "only showing top 10 rows\n",
      "\n"
     ]
    }
   ],
   "source": [
    "players_heading_acc.show(10)"
   ]
  },
  {
   "cell_type": "code",
   "execution_count": 80,
   "id": "1acf15f5",
   "metadata": {},
   "outputs": [],
   "source": [
    "players_heading_acc.foreach(lambda x:count_players_by_heights(x))"
   ]
  },
  {
   "cell_type": "code",
   "execution_count": 82,
   "id": "601832f7",
   "metadata": {},
   "outputs": [
    {
     "data": {
      "text/plain": [
       "[18977, 97399, 61518, 3371]"
      ]
     },
     "execution_count": 82,
     "metadata": {},
     "output_type": "execute_result"
    }
   ],
   "source": [
    "all_players = [short_count.value,\n",
    "               medium_low_count.value,\n",
    "               medium_high_count.value,\n",
    "               tall_count.value]\n",
    "\n",
    "all_players"
   ]
  },
  {
   "cell_type": "code",
   "execution_count": 89,
   "id": "95080b1e",
   "metadata": {},
   "outputs": [],
   "source": [
    "short_ha_count = spark.sparkContext.accumulator(0)\n",
    "medium_ha_low_count = spark.sparkContext.accumulator(0)\n",
    "medium_ha_high_count = spark.sparkContext.accumulator(0)\n",
    "tall_ha_count = spark.sparkContext.accumulator(0)"
   ]
  },
  {
   "cell_type": "code",
   "execution_count": 90,
   "id": "6b69c568",
   "metadata": {},
   "outputs": [],
   "source": [
    "def count_players_by_height_and_heading_accuracy(row,threshold_score):\n",
    "    height = float(row.height)\n",
    "    ha = float(row.heading_accuracy)\n",
    "    \n",
    "    if(ha <= threshold_score):\n",
    "        return\n",
    "    \n",
    "    if(height <= 175):\n",
    "        short_ha_count.add(1)\n",
    "    elif(height > 175 and height<=183):\n",
    "        medium_ha_low_count.add(1)\n",
    "    elif(height > 183 and height<=195):\n",
    "        medium_ha_high_count.add(1)\n",
    "    elif(height>195):\n",
    "        tall_ha_count.add(1)"
   ]
  },
  {
   "cell_type": "code",
   "execution_count": 91,
   "id": "2a7c5f48",
   "metadata": {},
   "outputs": [],
   "source": [
    "players_heading_acc.foreach(lambda x:count_players_by_height_and_heading_accuracy(x,60))"
   ]
  },
  {
   "cell_type": "code",
   "execution_count": 92,
   "id": "bbe2e399",
   "metadata": {},
   "outputs": [
    {
     "data": {
      "text/plain": [
       "[3653, 41448, 40270, 1573]"
      ]
     },
     "execution_count": 92,
     "metadata": {},
     "output_type": "execute_result"
    }
   ],
   "source": [
    "all_players_above_threshold = [short_ha_count.value,\n",
    "               medium_ha_low_count.value,\n",
    "               medium_ha_high_count.value,\n",
    "               tall_ha_count.value]\n",
    "\n",
    "all_players_above_threshold"
   ]
  },
  {
   "cell_type": "code",
   "execution_count": 93,
   "id": "37e38f03",
   "metadata": {},
   "outputs": [
    {
     "data": {
      "text/plain": [
       "[19.249617958581442, 42.55485169252251, 65.46051562144413, 46.66271136161376]"
      ]
     },
     "execution_count": 93,
     "metadata": {},
     "output_type": "execute_result"
    }
   ],
   "source": [
    "percentage_values = [short_ha_count.value / short_count.value * 100,\n",
    "                     medium_ha_low_count.value / medium_low_count.value * 100,\n",
    "                     medium_ha_high_count.value / medium_high_count.value * 100,\n",
    "                     tall_ha_count.value / tall_count.value * 100\n",
    "                    ]\n",
    "percentage_values"
   ]
  },
  {
   "cell_type": "code",
   "execution_count": 94,
   "id": "2f0e79cf",
   "metadata": {},
   "outputs": [
    {
     "data": {
      "text/plain": [
       "['player_api_id',\n",
       " 'overall_rating',\n",
       " 'finishing',\n",
       " 'heading_accuracy',\n",
       " 'volleys',\n",
       " 'dribbling',\n",
       " 'curve',\n",
       " 'free_kick_accuracy',\n",
       " 'long_passing',\n",
       " 'ball_control',\n",
       " 'acceleration',\n",
       " 'agility',\n",
       " 'reactions',\n",
       " 'shot_power',\n",
       " 'stamina',\n",
       " 'strength',\n",
       " 'long_shots',\n",
       " 'interceptions',\n",
       " 'positioning',\n",
       " 'vision',\n",
       " 'penalties',\n",
       " 'marking',\n",
       " 'standing_tackle',\n",
       " 'sliding_tackle',\n",
       " 'gk_diving',\n",
       " 'gk_handling',\n",
       " 'gk_kicking',\n",
       " 'gk_positioning',\n",
       " 'gk_reflexes',\n",
       " 'year']"
      ]
     },
     "execution_count": 94,
     "metadata": {},
     "output_type": "execute_result"
    }
   ],
   "source": [
    "pa_2016.columns"
   ]
  },
  {
   "cell_type": "code",
   "execution_count": 95,
   "id": "ebe80720",
   "metadata": {},
   "outputs": [],
   "source": [
    "pa_2016.select(\"player_api_id\",\"overall_rating\")\\\n",
    "        .coalesce(1)\\\n",
    "        .write\\\n",
    "        .option(\"header\",\"true\")\\\n",
    "        .csv(\"players_overall.csv\")"
   ]
  },
  {
   "cell_type": "code",
   "execution_count": 96,
   "id": "82c99edc",
   "metadata": {},
   "outputs": [],
   "source": [
    "pa_2016.select(\"player_api_id\",\"overall_rating\")\\\n",
    "        .write\\\n",
    "        .json(\"players_overall.json\")"
   ]
  },
  {
   "cell_type": "code",
   "execution_count": null,
   "id": "fd0ed8e4",
   "metadata": {},
   "outputs": [],
   "source": []
  }
 ],
 "metadata": {
  "kernelspec": {
   "display_name": "Python 3",
   "language": "python",
   "name": "python3"
  },
  "language_info": {
   "codemirror_mode": {
    "name": "ipython",
    "version": 3
   },
   "file_extension": ".py",
   "mimetype": "text/x-python",
   "name": "python",
   "nbconvert_exporter": "python",
   "pygments_lexer": "ipython3",
   "version": "3.8.8"
  }
 },
 "nbformat": 4,
 "nbformat_minor": 5
}
