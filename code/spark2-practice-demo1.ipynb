{
 "cells": [
  {
   "cell_type": "code",
   "execution_count": 201,
   "id": "6ecd28dc",
   "metadata": {},
   "outputs": [
    {
     "data": {
      "text/html": [
       "\n",
       "        <div>\n",
       "            <p><b>SparkContext</b></p>\n",
       "\n",
       "            <p><a href=\"http://avijits-mbp.fritz.box:4040\">Spark UI</a></p>\n",
       "\n",
       "            <dl>\n",
       "              <dt>Version</dt>\n",
       "                <dd><code>v3.1.2</code></dd>\n",
       "              <dt>Master</dt>\n",
       "                <dd><code>local[*]</code></dd>\n",
       "              <dt>AppName</dt>\n",
       "                <dd><code>PySparkShell</code></dd>\n",
       "            </dl>\n",
       "        </div>\n",
       "        "
      ],
      "text/plain": [
       "<SparkContext master=local[*] appName=PySparkShell>"
      ]
     },
     "execution_count": 201,
     "metadata": {},
     "output_type": "execute_result"
    }
   ],
   "source": [
    "sc"
   ]
  },
  {
   "cell_type": "code",
   "execution_count": 202,
   "id": "b606dba9",
   "metadata": {},
   "outputs": [],
   "source": [
    "from pyspark.sql import Row\n",
    "from pyspark.sql import SQLContext\n",
    "from datetime import datetime"
   ]
  },
  {
   "cell_type": "code",
   "execution_count": 203,
   "id": "8fca3db2",
   "metadata": {},
   "outputs": [
    {
     "data": {
      "text/plain": [
       "ParallelCollectionRDD[425] at readRDDFromFile at PythonRDD.scala:274"
      ]
     },
     "execution_count": 203,
     "metadata": {},
     "output_type": "execute_result"
    }
   ],
   "source": [
    "simple_data = sc.parallelize([1,\"Alice\",50])\n",
    "simple_data"
   ]
  },
  {
   "cell_type": "code",
   "execution_count": 204,
   "id": "75310e94",
   "metadata": {},
   "outputs": [
    {
     "data": {
      "text/plain": [
       "3"
      ]
     },
     "execution_count": 204,
     "metadata": {},
     "output_type": "execute_result"
    }
   ],
   "source": [
    "simple_data.count()"
   ]
  },
  {
   "cell_type": "code",
   "execution_count": 205,
   "id": "fe0fbfbe",
   "metadata": {},
   "outputs": [
    {
     "data": {
      "text/plain": [
       "1"
      ]
     },
     "execution_count": 205,
     "metadata": {},
     "output_type": "execute_result"
    }
   ],
   "source": [
    "simple_data.first()"
   ]
  },
  {
   "cell_type": "code",
   "execution_count": 206,
   "id": "0f026e6c",
   "metadata": {},
   "outputs": [
    {
     "data": {
      "text/plain": [
       "[1, 'Alice']"
      ]
     },
     "execution_count": 206,
     "metadata": {},
     "output_type": "execute_result"
    }
   ],
   "source": [
    "simple_data.take(2)"
   ]
  },
  {
   "cell_type": "code",
   "execution_count": 207,
   "id": "ae343704",
   "metadata": {},
   "outputs": [
    {
     "data": {
      "text/plain": [
       "[1, 'Alice', 50]"
      ]
     },
     "execution_count": 207,
     "metadata": {},
     "output_type": "execute_result"
    }
   ],
   "source": [
    "simple_data.collect()"
   ]
  },
  {
   "cell_type": "code",
   "execution_count": 208,
   "id": "848062c2",
   "metadata": {},
   "outputs": [],
   "source": [
    "#df = simple_data.toDF()"
   ]
  },
  {
   "cell_type": "code",
   "execution_count": 209,
   "id": "6d429326",
   "metadata": {},
   "outputs": [
    {
     "data": {
      "text/plain": [
       "ParallelCollectionRDD[432] at readRDDFromFile at PythonRDD.scala:274"
      ]
     },
     "execution_count": 209,
     "metadata": {},
     "output_type": "execute_result"
    }
   ],
   "source": [
    "records = sc.parallelize([[1,\"Alice\",50],[2,\"Bob\",80]])\n",
    "records"
   ]
  },
  {
   "cell_type": "code",
   "execution_count": 210,
   "id": "18faec7c",
   "metadata": {},
   "outputs": [
    {
     "data": {
      "text/plain": [
       "[[1, 'Alice', 50], [2, 'Bob', 80]]"
      ]
     },
     "execution_count": 210,
     "metadata": {},
     "output_type": "execute_result"
    }
   ],
   "source": [
    "records.collect()"
   ]
  },
  {
   "cell_type": "code",
   "execution_count": 211,
   "id": "04ca9f48",
   "metadata": {},
   "outputs": [],
   "source": [
    "df = records.toDF()"
   ]
  },
  {
   "cell_type": "code",
   "execution_count": 212,
   "id": "f4c86200",
   "metadata": {},
   "outputs": [
    {
     "data": {
      "text/plain": [
       "DataFrame[_1: bigint, _2: string, _3: bigint]"
      ]
     },
     "execution_count": 212,
     "metadata": {},
     "output_type": "execute_result"
    }
   ],
   "source": [
    "df"
   ]
  },
  {
   "cell_type": "code",
   "execution_count": 213,
   "id": "9a270491",
   "metadata": {},
   "outputs": [
    {
     "name": "stdout",
     "output_type": "stream",
     "text": [
      "+---+-----+---+\n",
      "| _1|   _2| _3|\n",
      "+---+-----+---+\n",
      "|  1|Alice| 50|\n",
      "|  2|  Bob| 80|\n",
      "+---+-----+---+\n",
      "\n"
     ]
    }
   ],
   "source": [
    "df.show()"
   ]
  },
  {
   "cell_type": "code",
   "execution_count": 214,
   "id": "102da14b",
   "metadata": {},
   "outputs": [
    {
     "data": {
      "text/plain": [
       "ParallelCollectionRDD[442] at readRDDFromFile at PythonRDD.scala:274"
      ]
     },
     "execution_count": 214,
     "metadata": {},
     "output_type": "execute_result"
    }
   ],
   "source": [
    "data = sc.parallelize([Row(id=1,\n",
    "                         name='Alice',\n",
    "                         age=50)])\n",
    "data"
   ]
  },
  {
   "cell_type": "code",
   "execution_count": 215,
   "id": "fc4b7bd0",
   "metadata": {},
   "outputs": [
    {
     "data": {
      "text/plain": [
       "1"
      ]
     },
     "execution_count": 215,
     "metadata": {},
     "output_type": "execute_result"
    }
   ],
   "source": [
    "data.count()"
   ]
  },
  {
   "cell_type": "code",
   "execution_count": 216,
   "id": "98b16638",
   "metadata": {},
   "outputs": [
    {
     "data": {
      "text/plain": [
       "[Row(id=1, name='Alice', age=50)]"
      ]
     },
     "execution_count": 216,
     "metadata": {},
     "output_type": "execute_result"
    }
   ],
   "source": [
    "data.collect()"
   ]
  },
  {
   "cell_type": "code",
   "execution_count": 217,
   "id": "4155fd62",
   "metadata": {},
   "outputs": [
    {
     "data": {
      "text/plain": [
       "ParallelCollectionRDD[444] at readRDDFromFile at PythonRDD.scala:274"
      ]
     },
     "execution_count": 217,
     "metadata": {},
     "output_type": "execute_result"
    }
   ],
   "source": [
    "data = sc.parallelize([Row(id=1,\n",
    "                         name='Alice',\n",
    "                         score=50),\n",
    "                      Row(id=2,\n",
    "                         name='Bob',\n",
    "                         score=80),\n",
    "                       Row(id=3,\n",
    "                         name='Charlee',\n",
    "                         score=75)])\n",
    "data"
   ]
  },
  {
   "cell_type": "code",
   "execution_count": 218,
   "id": "0fc385a6",
   "metadata": {},
   "outputs": [
    {
     "data": {
      "text/plain": [
       "3"
      ]
     },
     "execution_count": 218,
     "metadata": {},
     "output_type": "execute_result"
    }
   ],
   "source": [
    "data.count()"
   ]
  },
  {
   "cell_type": "code",
   "execution_count": 219,
   "id": "fc64f095",
   "metadata": {},
   "outputs": [
    {
     "data": {
      "text/plain": [
       "[Row(id=1, name='Alice', score=50),\n",
       " Row(id=2, name='Bob', score=80),\n",
       " Row(id=3, name='Charlee', score=75)]"
      ]
     },
     "execution_count": 219,
     "metadata": {},
     "output_type": "execute_result"
    }
   ],
   "source": [
    "data.collect()"
   ]
  },
  {
   "cell_type": "code",
   "execution_count": 220,
   "id": "37b733eb",
   "metadata": {},
   "outputs": [],
   "source": [
    "df = data.toDF()"
   ]
  },
  {
   "cell_type": "code",
   "execution_count": 221,
   "id": "a72e4502",
   "metadata": {},
   "outputs": [
    {
     "name": "stdout",
     "output_type": "stream",
     "text": [
      "+---+-------+-----+\n",
      "| id|   name|score|\n",
      "+---+-------+-----+\n",
      "|  1|  Alice|   50|\n",
      "|  2|    Bob|   80|\n",
      "|  3|Charlee|   75|\n",
      "+---+-------+-----+\n",
      "\n"
     ]
    }
   ],
   "source": [
    "df.show()"
   ]
  },
  {
   "cell_type": "code",
   "execution_count": 222,
   "id": "9dc4bf56",
   "metadata": {},
   "outputs": [
    {
     "data": {
      "text/plain": [
       "ParallelCollectionRDD[454] at readRDDFromFile at PythonRDD.scala:274"
      ]
     },
     "execution_count": 222,
     "metadata": {},
     "output_type": "execute_result"
    }
   ],
   "source": [
    "complex_data = sc.parallelize([Row(col_float=1.44,\n",
    "                                  col_integer=10,\n",
    "                                  col_string=\"John\")])\n",
    "complex_data"
   ]
  },
  {
   "cell_type": "code",
   "execution_count": 223,
   "id": "6e039381",
   "metadata": {},
   "outputs": [
    {
     "data": {
      "text/plain": [
       "DataFrame[col_float: double, col_integer: bigint, col_string: string]"
      ]
     },
     "execution_count": 223,
     "metadata": {},
     "output_type": "execute_result"
    }
   ],
   "source": [
    "complex_data_df = complex_data.toDF()\n",
    "complex_data_df"
   ]
  },
  {
   "cell_type": "code",
   "execution_count": 224,
   "id": "ef353431",
   "metadata": {},
   "outputs": [
    {
     "name": "stdout",
     "output_type": "stream",
     "text": [
      "+---------+-----------+----------+\n",
      "|col_float|col_integer|col_string|\n",
      "+---------+-----------+----------+\n",
      "|     1.44|         10|      John|\n",
      "+---------+-----------+----------+\n",
      "\n"
     ]
    }
   ],
   "source": [
    "complex_data_df.show()"
   ]
  },
  {
   "cell_type": "code",
   "execution_count": 225,
   "id": "2e45b8c0",
   "metadata": {},
   "outputs": [
    {
     "data": {
      "text/plain": [
       "ParallelCollectionRDD[464] at readRDDFromFile at PythonRDD.scala:274"
      ]
     },
     "execution_count": 225,
     "metadata": {},
     "output_type": "execute_result"
    }
   ],
   "source": [
    "complex_data = sc.parallelize([Row(col_float=1.44,\n",
    "                                  col_integer=10,\n",
    "                                  col_boolean=True,\n",
    "                                  col_list=[1,2,3],\n",
    "                                  col_string=\"John\")])\n",
    "complex_data"
   ]
  },
  {
   "cell_type": "code",
   "execution_count": 226,
   "id": "456f46ed",
   "metadata": {},
   "outputs": [
    {
     "data": {
      "text/plain": [
       "[Row(col_float=1.44, col_integer=10, col_boolean=True, col_list=[1, 2, 3], col_string='John')]"
      ]
     },
     "execution_count": 226,
     "metadata": {},
     "output_type": "execute_result"
    }
   ],
   "source": [
    "complex_data.collect()"
   ]
  },
  {
   "cell_type": "code",
   "execution_count": 227,
   "id": "e1e84922",
   "metadata": {},
   "outputs": [
    {
     "name": "stdout",
     "output_type": "stream",
     "text": [
      "+---------+-----------+-----------+---------+----------+\n",
      "|col_float|col_integer|col_boolean| col_list|col_string|\n",
      "+---------+-----------+-----------+---------+----------+\n",
      "|     1.44|         10|       true|[1, 2, 3]|      John|\n",
      "+---------+-----------+-----------+---------+----------+\n",
      "\n"
     ]
    }
   ],
   "source": [
    "complex_data_df = complex_data.toDF()\n",
    "complex_data_df.show()"
   ]
  },
  {
   "cell_type": "code",
   "execution_count": 228,
   "id": "3450e4f5",
   "metadata": {},
   "outputs": [
    {
     "data": {
      "text/plain": [
       "[Row(col_list=[1, 2, 3], col_dict={'k1': 0}, col_row=Row(a=10, b=20, c=30), col_time=datetime.datetime(2014, 8, 1, 14, 1, 5)),\n",
       " Row(col_list=[1, 2, 3, 4, 5], col_dict={'k1': 0, 'k2': 1}, col_row=Row(a=40, b=50, c=60), col_time=datetime.datetime(2014, 8, 2, 14, 1, 6)),\n",
       " Row(col_list=[1, 2, 3, 4, 5, 6, 7], col_dict={'k1': 0, 'k2': 1, 'k3': 2}, col_row=Row(a=70, b=80, c=90), col_time=datetime.datetime(2014, 8, 3, 14, 1, 7))]"
      ]
     },
     "execution_count": 228,
     "metadata": {},
     "output_type": "execute_result"
    }
   ],
   "source": [
    "complex_data = sc.parallelize([Row(col_list=[1,2,3],\n",
    "                                  col_dict={\"k1\":0},\n",
    "                                  col_row=Row(a=10,b=20,c=30),\n",
    "                                  col_time=datetime(2014,8,1,14,1,5)\n",
    "                                  ),\n",
    "                              Row(col_list=[1,2,3,4,5],\n",
    "                                  col_dict={\"k1\":0,\"k2\":1},\n",
    "                                  col_row=Row(a=40,b=50,c=60),\n",
    "                                  col_time=datetime(2014,8,2,14,1,6)\n",
    "                                  ),\n",
    "                              Row(col_list=[1,2,3,4,5,6,7],\n",
    "                                  col_dict={\"k1\":0,\"k2\":1,\"k3\":2},\n",
    "                                  col_row=Row(a=70,b=80,c=90),\n",
    "                                  col_time=datetime(2014,8,3,14,1,7)\n",
    "                                  )])\n",
    "complex_data.collect()"
   ]
  },
  {
   "cell_type": "code",
   "execution_count": 229,
   "id": "16467034",
   "metadata": {},
   "outputs": [
    {
     "name": "stdout",
     "output_type": "stream",
     "text": [
      "+--------------------+--------------------+------------+-------------------+\n",
      "|            col_list|            col_dict|     col_row|           col_time|\n",
      "+--------------------+--------------------+------------+-------------------+\n",
      "|           [1, 2, 3]|           {k1 -> 0}|{10, 20, 30}|2014-08-01 14:01:05|\n",
      "|     [1, 2, 3, 4, 5]|  {k1 -> 0, k2 -> 1}|{40, 50, 60}|2014-08-02 14:01:06|\n",
      "|[1, 2, 3, 4, 5, 6...|{k3 -> 2, k1 -> 0...|{70, 80, 90}|2014-08-03 14:01:07|\n",
      "+--------------------+--------------------+------------+-------------------+\n",
      "\n"
     ]
    }
   ],
   "source": [
    "complex_data_df = complex_data.toDF()\n",
    "complex_data_df.show()"
   ]
  },
  {
   "cell_type": "code",
   "execution_count": 230,
   "id": "90c366cc",
   "metadata": {},
   "outputs": [
    {
     "data": {
      "text/plain": [
       "<pyspark.sql.context.SQLContext at 0x7fec19ad3c40>"
      ]
     },
     "execution_count": 230,
     "metadata": {},
     "output_type": "execute_result"
    }
   ],
   "source": [
    "sqlcontext = SQLContext(sc)\n",
    "sqlcontext"
   ]
  },
  {
   "cell_type": "code",
   "execution_count": 231,
   "id": "827becee",
   "metadata": {},
   "outputs": [
    {
     "data": {
      "text/plain": [
       "DataFrame[id: bigint]"
      ]
     },
     "execution_count": 231,
     "metadata": {},
     "output_type": "execute_result"
    }
   ],
   "source": [
    "df=sqlcontext.range(5)\n",
    "df"
   ]
  },
  {
   "cell_type": "code",
   "execution_count": 232,
   "id": "35f98d02",
   "metadata": {},
   "outputs": [
    {
     "name": "stdout",
     "output_type": "stream",
     "text": [
      "+---+\n",
      "| id|\n",
      "+---+\n",
      "|  0|\n",
      "|  1|\n",
      "|  2|\n",
      "|  3|\n",
      "|  4|\n",
      "+---+\n",
      "\n"
     ]
    }
   ],
   "source": [
    "df.show()"
   ]
  },
  {
   "cell_type": "code",
   "execution_count": 233,
   "id": "3f997140",
   "metadata": {},
   "outputs": [
    {
     "data": {
      "text/plain": [
       "5"
      ]
     },
     "execution_count": 233,
     "metadata": {},
     "output_type": "execute_result"
    }
   ],
   "source": [
    "df.count()"
   ]
  },
  {
   "cell_type": "code",
   "execution_count": 234,
   "id": "74d37f4b",
   "metadata": {},
   "outputs": [],
   "source": [
    "#List of tuples\n",
    "data=[('Alice',50),\n",
    "      ('Bob',80),\n",
    "       ('Charlee',75)]"
   ]
  },
  {
   "cell_type": "code",
   "execution_count": 235,
   "id": "e6d97916",
   "metadata": {},
   "outputs": [
    {
     "name": "stdout",
     "output_type": "stream",
     "text": [
      "+-------+---+\n",
      "|     _1| _2|\n",
      "+-------+---+\n",
      "|  Alice| 50|\n",
      "|    Bob| 80|\n",
      "|Charlee| 75|\n",
      "+-------+---+\n",
      "\n"
     ]
    }
   ],
   "source": [
    "sqlcontext.createDataFrame(data).show()"
   ]
  },
  {
   "cell_type": "code",
   "execution_count": 236,
   "id": "40a8af5f",
   "metadata": {},
   "outputs": [
    {
     "name": "stdout",
     "output_type": "stream",
     "text": [
      "+-------+-----+\n",
      "|   name|score|\n",
      "+-------+-----+\n",
      "|  Alice|   50|\n",
      "|    Bob|   80|\n",
      "|Charlee|   75|\n",
      "+-------+-----+\n",
      "\n"
     ]
    }
   ],
   "source": [
    "sqlcontext.createDataFrame(data,['name','score']).show()"
   ]
  },
  {
   "cell_type": "code",
   "execution_count": 237,
   "id": "31f9b642",
   "metadata": {},
   "outputs": [],
   "source": [
    "complex_data = sc.parallelize([Row(col_float=1.44,\n",
    "                                  col_integer=10,\n",
    "                                  col_boolean=True,\n",
    "                                  col_string=\"John\",\n",
    "                                  col_list=[1,2,3],\n",
    "                                  col_dict={\"k1\":0},\n",
    "                                  col_row=Row(a=10,b=20,c=30),\n",
    "                                  col_time=datetime(2014,8,1,14,1,5)\n",
    "                                  ),\n",
    "                              Row(col_float=1.88,\n",
    "                                  col_integer=20,\n",
    "                                  col_boolean=True,\n",
    "                                  col_string=\"Alice\",\n",
    "                                  col_list=[1,2,3,4,5],\n",
    "                                  col_dict={\"k1\":0,\"k2\":1},\n",
    "                                  col_row=Row(a=40,b=50,c=60),\n",
    "                                  col_time=datetime(2014,8,2,14,1,6)\n",
    "                                  ),\n",
    "                              Row(col_float=1.83,\n",
    "                                  col_integer=30,\n",
    "                                  col_boolean=True,\n",
    "                                  col_string=\"Charlee\",\n",
    "                                  col_list=[1,2,3,4,5,6,7],\n",
    "                                  col_dict={\"k1\":0,\"k2\":1,\"k3\":2},\n",
    "                                  col_row=Row(a=70,b=80,c=90),\n",
    "                                  col_time=datetime(2014,8,3,14,1,7)\n",
    "                                  )])"
   ]
  },
  {
   "cell_type": "code",
   "execution_count": 238,
   "id": "cd48815c",
   "metadata": {},
   "outputs": [],
   "source": [
    "complex_data_df = sqlcontext.createDataFrame(complex_data)"
   ]
  },
  {
   "cell_type": "code",
   "execution_count": 239,
   "id": "9ff3343e",
   "metadata": {},
   "outputs": [
    {
     "data": {
      "text/plain": [
       "ParallelCollectionRDD[515] at readRDDFromFile at PythonRDD.scala:274"
      ]
     },
     "execution_count": 239,
     "metadata": {},
     "output_type": "execute_result"
    }
   ],
   "source": [
    "data = sc.parallelize([Row(1,\"Alice\",50),\n",
    "                       Row(2,\"Bob\",80),\n",
    "                      Row(3,'Charlee',75)])\n",
    "data"
   ]
  },
  {
   "cell_type": "code",
   "execution_count": 240,
   "id": "bc3de7fe",
   "metadata": {},
   "outputs": [
    {
     "data": {
      "text/plain": [
       "[<Row(1, 'Alice', 50)>, <Row(2, 'Bob', 80)>, <Row(3, 'Charlee', 75)>]"
      ]
     },
     "execution_count": 240,
     "metadata": {},
     "output_type": "execute_result"
    }
   ],
   "source": [
    "data.collect()"
   ]
  },
  {
   "cell_type": "code",
   "execution_count": 241,
   "id": "0d161bf6",
   "metadata": {},
   "outputs": [],
   "source": [
    "column_names = Row('id','name','score')\n",
    "students = data.map(lambda r: column_names(*r))"
   ]
  },
  {
   "cell_type": "code",
   "execution_count": 242,
   "id": "b5a0a7f2",
   "metadata": {},
   "outputs": [
    {
     "data": {
      "text/plain": [
       "PythonRDD[516] at RDD at PythonRDD.scala:53"
      ]
     },
     "execution_count": 242,
     "metadata": {},
     "output_type": "execute_result"
    }
   ],
   "source": [
    "students"
   ]
  },
  {
   "cell_type": "code",
   "execution_count": 243,
   "id": "dd8e4677",
   "metadata": {},
   "outputs": [
    {
     "data": {
      "text/plain": [
       "[Row(id=1, name='Alice', score=50),\n",
       " Row(id=2, name='Bob', score=80),\n",
       " Row(id=3, name='Charlee', score=75)]"
      ]
     },
     "execution_count": 243,
     "metadata": {},
     "output_type": "execute_result"
    }
   ],
   "source": [
    "students.collect()"
   ]
  },
  {
   "cell_type": "code",
   "execution_count": 244,
   "id": "ec2ba112",
   "metadata": {},
   "outputs": [
    {
     "data": {
      "text/plain": [
       "DataFrame[id: bigint, name: string, score: bigint]"
      ]
     },
     "execution_count": 244,
     "metadata": {},
     "output_type": "execute_result"
    }
   ],
   "source": [
    "test_df = students.toDF()\n",
    "test_df"
   ]
  },
  {
   "cell_type": "code",
   "execution_count": 245,
   "id": "994e586e",
   "metadata": {},
   "outputs": [
    {
     "name": "stdout",
     "output_type": "stream",
     "text": [
      "+---+-------+-----+\n",
      "| id|   name|score|\n",
      "+---+-------+-----+\n",
      "|  1|  Alice|   50|\n",
      "|  2|    Bob|   80|\n",
      "|  3|Charlee|   75|\n",
      "+---+-------+-----+\n",
      "\n"
     ]
    }
   ],
   "source": [
    "test_df.show()"
   ]
  },
  {
   "cell_type": "code",
   "execution_count": 246,
   "id": "2e6b6982",
   "metadata": {},
   "outputs": [
    {
     "data": {
      "text/plain": [
       "DataFrame[id: bigint, name: string, score: bigint]"
      ]
     },
     "execution_count": 246,
     "metadata": {},
     "output_type": "execute_result"
    }
   ],
   "source": [
    "students_df = sqlcontext.createDataFrame(students)\n",
    "students_df"
   ]
  },
  {
   "cell_type": "code",
   "execution_count": 247,
   "id": "42924887",
   "metadata": {},
   "outputs": [
    {
     "name": "stdout",
     "output_type": "stream",
     "text": [
      "+---+-------+-----+\n",
      "| id|   name|score|\n",
      "+---+-------+-----+\n",
      "|  1|  Alice|   50|\n",
      "|  2|    Bob|   80|\n",
      "|  3|Charlee|   75|\n",
      "+---+-------+-----+\n",
      "\n"
     ]
    }
   ],
   "source": [
    "students_df.show()"
   ]
  },
  {
   "cell_type": "code",
   "execution_count": 248,
   "id": "4a40cd1e",
   "metadata": {},
   "outputs": [
    {
     "data": {
      "text/plain": [
       "Row(col_float=1.44, col_integer=10, col_boolean=True, col_string='John', col_list=[1, 2, 3], col_dict={'k1': 0}, col_row=Row(a=10, b=20, c=30), col_time=datetime.datetime(2014, 8, 1, 14, 1, 5))"
      ]
     },
     "execution_count": 248,
     "metadata": {},
     "output_type": "execute_result"
    }
   ],
   "source": [
    "complex_data_df.first()"
   ]
  },
  {
   "cell_type": "code",
   "execution_count": 249,
   "id": "676556d8",
   "metadata": {},
   "outputs": [
    {
     "data": {
      "text/plain": [
       "[Row(col_float=1.44, col_integer=10, col_boolean=True, col_string='John', col_list=[1, 2, 3], col_dict={'k1': 0}, col_row=Row(a=10, b=20, c=30), col_time=datetime.datetime(2014, 8, 1, 14, 1, 5)),\n",
       " Row(col_float=1.88, col_integer=20, col_boolean=True, col_string='Alice', col_list=[1, 2, 3, 4, 5], col_dict={'k1': 0, 'k2': 1}, col_row=Row(a=40, b=50, c=60), col_time=datetime.datetime(2014, 8, 2, 14, 1, 6))]"
      ]
     },
     "execution_count": 249,
     "metadata": {},
     "output_type": "execute_result"
    }
   ],
   "source": [
    "complex_data_df.take(2)"
   ]
  },
  {
   "cell_type": "code",
   "execution_count": 250,
   "id": "f3ee70df",
   "metadata": {},
   "outputs": [
    {
     "data": {
      "text/plain": [
       "'John'"
      ]
     },
     "execution_count": 250,
     "metadata": {},
     "output_type": "execute_result"
    }
   ],
   "source": [
    "cell_string = complex_data_df.collect()[0][3]\n",
    "cell_string"
   ]
  },
  {
   "cell_type": "code",
   "execution_count": 251,
   "id": "bf560494",
   "metadata": {},
   "outputs": [
    {
     "data": {
      "text/plain": [
       "[1, 2, 3]"
      ]
     },
     "execution_count": 251,
     "metadata": {},
     "output_type": "execute_result"
    }
   ],
   "source": [
    "cell_list = complex_data_df.collect()[0][4]\n",
    "cell_list"
   ]
  },
  {
   "cell_type": "code",
   "execution_count": 252,
   "id": "747d8dd2",
   "metadata": {},
   "outputs": [
    {
     "data": {
      "text/plain": [
       "[1, 2, 3, 100]"
      ]
     },
     "execution_count": 252,
     "metadata": {},
     "output_type": "execute_result"
    }
   ],
   "source": [
    "cell_list.append(100)\n",
    "cell_list"
   ]
  },
  {
   "cell_type": "code",
   "execution_count": 253,
   "id": "1ccf5338",
   "metadata": {},
   "outputs": [
    {
     "name": "stdout",
     "output_type": "stream",
     "text": [
      "+---------+-----------+-----------+----------+--------------------+--------------------+------------+-------------------+\n",
      "|col_float|col_integer|col_boolean|col_string|            col_list|            col_dict|     col_row|           col_time|\n",
      "+---------+-----------+-----------+----------+--------------------+--------------------+------------+-------------------+\n",
      "|     1.44|         10|       true|      John|           [1, 2, 3]|           {k1 -> 0}|{10, 20, 30}|2014-08-01 14:01:05|\n",
      "|     1.88|         20|       true|     Alice|     [1, 2, 3, 4, 5]|  {k1 -> 0, k2 -> 1}|{40, 50, 60}|2014-08-02 14:01:06|\n",
      "|     1.83|         30|       true|   Charlee|[1, 2, 3, 4, 5, 6...|{k3 -> 2, k1 -> 0...|{70, 80, 90}|2014-08-03 14:01:07|\n",
      "+---------+-----------+-----------+----------+--------------------+--------------------+------------+-------------------+\n",
      "\n"
     ]
    }
   ],
   "source": [
    "complex_data_df.show()"
   ]
  },
  {
   "cell_type": "code",
   "execution_count": 254,
   "id": "085990cf",
   "metadata": {},
   "outputs": [
    {
     "data": {
      "text/plain": [
       "[('John', {'k1': 0}),\n",
       " ('Alice', {'k1': 0, 'k2': 1}),\n",
       " ('Charlee', {'k3': 2, 'k1': 0, 'k2': 1})]"
      ]
     },
     "execution_count": 254,
     "metadata": {},
     "output_type": "execute_result"
    }
   ],
   "source": [
    "complex_data_df.rdd\\\n",
    "                .map(lambda x : (x.col_string,x.col_dict))\\\n",
    "                .collect()"
   ]
  },
  {
   "cell_type": "code",
   "execution_count": 255,
   "id": "7d55fe5a",
   "metadata": {},
   "outputs": [
    {
     "name": "stdout",
     "output_type": "stream",
     "text": [
      "+----------+--------------------+-------------------+\n",
      "|col_string|            col_dict|           col_time|\n",
      "+----------+--------------------+-------------------+\n",
      "|      John|           {k1 -> 0}|2014-08-01 14:01:05|\n",
      "|     Alice|  {k1 -> 0, k2 -> 1}|2014-08-02 14:01:06|\n",
      "|   Charlee|{k3 -> 2, k1 -> 0...|2014-08-03 14:01:07|\n",
      "+----------+--------------------+-------------------+\n",
      "\n"
     ]
    }
   ],
   "source": [
    "complex_data_df.select(\n",
    "        'col_string',\n",
    "        'col_dict',\n",
    "        'col_time'\n",
    ").show()"
   ]
  },
  {
   "cell_type": "code",
   "execution_count": 256,
   "id": "9fa41849",
   "metadata": {},
   "outputs": [
    {
     "data": {
      "text/plain": [
       "['John Boo', 'Alice Boo', 'Charlee Boo']"
      ]
     },
     "execution_count": 256,
     "metadata": {},
     "output_type": "execute_result"
    }
   ],
   "source": [
    "complex_data_df.rdd\\\n",
    "                .map(lambda x : x.col_string + \" Boo\")\\\n",
    "                .collect()"
   ]
  },
  {
   "cell_type": "code",
   "execution_count": 257,
   "id": "4893480c",
   "metadata": {},
   "outputs": [
    {
     "name": "stdout",
     "output_type": "stream",
     "text": [
      "+-----------+---------+-------+\n",
      "|col_integer|col_float|col_sum|\n",
      "+-----------+---------+-------+\n",
      "|         10|     1.44|  11.44|\n",
      "|         20|     1.88|  21.88|\n",
      "|         30|     1.83|  31.83|\n",
      "+-----------+---------+-------+\n",
      "\n"
     ]
    }
   ],
   "source": [
    "complex_data_df.select(\n",
    "                    'col_integer',\n",
    "                    'col_float'\n",
    "        )\\\n",
    "        .withColumn(\n",
    "                    \"col_sum\",\n",
    "                    complex_data_df.col_integer + complex_data_df.col_float\n",
    "        )\\\n",
    ".show()"
   ]
  },
  {
   "cell_type": "code",
   "execution_count": 258,
   "id": "cfa4c617",
   "metadata": {},
   "outputs": [
    {
     "name": "stdout",
     "output_type": "stream",
     "text": [
      "+-----------+------------+\n",
      "|col_boolean|col_opposite|\n",
      "+-----------+------------+\n",
      "|       true|       false|\n",
      "|       true|       false|\n",
      "|       true|       false|\n",
      "+-----------+------------+\n",
      "\n"
     ]
    }
   ],
   "source": [
    "complex_data_df.select(\n",
    "                    'col_boolean'\n",
    "        )\\\n",
    "        .withColumn(\n",
    "                    \"col_opposite\",\n",
    "                    complex_data_df.col_boolean == False\n",
    "        )\\\n",
    ".show()"
   ]
  },
  {
   "cell_type": "code",
   "execution_count": 259,
   "id": "b21be0f1",
   "metadata": {},
   "outputs": [
    {
     "name": "stdout",
     "output_type": "stream",
     "text": [
      "+---------+-----------+-----------+----------+--------------------+--------------------+------------+-------------------+\n",
      "|col_float|col_integer|col_boolean|col_string|            col_list|             col_map|     col_row|           col_time|\n",
      "+---------+-----------+-----------+----------+--------------------+--------------------+------------+-------------------+\n",
      "|     1.44|         10|       true|      John|           [1, 2, 3]|           {k1 -> 0}|{10, 20, 30}|2014-08-01 14:01:05|\n",
      "|     1.88|         20|       true|     Alice|     [1, 2, 3, 4, 5]|  {k1 -> 0, k2 -> 1}|{40, 50, 60}|2014-08-02 14:01:06|\n",
      "|     1.83|         30|       true|   Charlee|[1, 2, 3, 4, 5, 6...|{k3 -> 2, k1 -> 0...|{70, 80, 90}|2014-08-03 14:01:07|\n",
      "+---------+-----------+-----------+----------+--------------------+--------------------+------------+-------------------+\n",
      "\n"
     ]
    }
   ],
   "source": [
    "complex_data_df.withColumnRenamed('col_dict','col_map').show()"
   ]
  },
  {
   "cell_type": "code",
   "execution_count": 260,
   "id": "147e5370",
   "metadata": {},
   "outputs": [
    {
     "name": "stdout",
     "output_type": "stream",
     "text": [
      "+-------+\n",
      "|   Name|\n",
      "+-------+\n",
      "|   John|\n",
      "|  Alice|\n",
      "|Charlee|\n",
      "+-------+\n",
      "\n"
     ]
    }
   ],
   "source": [
    "complex_data_df.select(complex_data_df.col_string.alias(\"Name\")).show()"
   ]
  },
  {
   "cell_type": "code",
   "execution_count": 261,
   "id": "32a724cb",
   "metadata": {},
   "outputs": [],
   "source": [
    "import pandas"
   ]
  },
  {
   "cell_type": "code",
   "execution_count": 262,
   "id": "9bc0b6fd",
   "metadata": {},
   "outputs": [
    {
     "data": {
      "text/html": [
       "<div>\n",
       "<style scoped>\n",
       "    .dataframe tbody tr th:only-of-type {\n",
       "        vertical-align: middle;\n",
       "    }\n",
       "\n",
       "    .dataframe tbody tr th {\n",
       "        vertical-align: top;\n",
       "    }\n",
       "\n",
       "    .dataframe thead th {\n",
       "        text-align: right;\n",
       "    }\n",
       "</style>\n",
       "<table border=\"1\" class=\"dataframe\">\n",
       "  <thead>\n",
       "    <tr style=\"text-align: right;\">\n",
       "      <th></th>\n",
       "      <th>col_float</th>\n",
       "      <th>col_integer</th>\n",
       "      <th>col_boolean</th>\n",
       "      <th>col_string</th>\n",
       "      <th>col_list</th>\n",
       "      <th>col_dict</th>\n",
       "      <th>col_row</th>\n",
       "      <th>col_time</th>\n",
       "    </tr>\n",
       "  </thead>\n",
       "  <tbody>\n",
       "    <tr>\n",
       "      <th>0</th>\n",
       "      <td>1.44</td>\n",
       "      <td>10</td>\n",
       "      <td>True</td>\n",
       "      <td>John</td>\n",
       "      <td>[1, 2, 3]</td>\n",
       "      <td>{'k1': 0}</td>\n",
       "      <td>(10, 20, 30)</td>\n",
       "      <td>2014-08-01 14:01:05</td>\n",
       "    </tr>\n",
       "    <tr>\n",
       "      <th>1</th>\n",
       "      <td>1.88</td>\n",
       "      <td>20</td>\n",
       "      <td>True</td>\n",
       "      <td>Alice</td>\n",
       "      <td>[1, 2, 3, 4, 5]</td>\n",
       "      <td>{'k1': 0, 'k2': 1}</td>\n",
       "      <td>(40, 50, 60)</td>\n",
       "      <td>2014-08-02 14:01:06</td>\n",
       "    </tr>\n",
       "    <tr>\n",
       "      <th>2</th>\n",
       "      <td>1.83</td>\n",
       "      <td>30</td>\n",
       "      <td>True</td>\n",
       "      <td>Charlee</td>\n",
       "      <td>[1, 2, 3, 4, 5, 6, 7]</td>\n",
       "      <td>{'k3': 2, 'k1': 0, 'k2': 1}</td>\n",
       "      <td>(70, 80, 90)</td>\n",
       "      <td>2014-08-03 14:01:07</td>\n",
       "    </tr>\n",
       "  </tbody>\n",
       "</table>\n",
       "</div>"
      ],
      "text/plain": [
       "   col_float  col_integer  col_boolean col_string               col_list  \\\n",
       "0       1.44           10         True       John              [1, 2, 3]   \n",
       "1       1.88           20         True      Alice        [1, 2, 3, 4, 5]   \n",
       "2       1.83           30         True    Charlee  [1, 2, 3, 4, 5, 6, 7]   \n",
       "\n",
       "                      col_dict       col_row            col_time  \n",
       "0                    {'k1': 0}  (10, 20, 30) 2014-08-01 14:01:05  \n",
       "1           {'k1': 0, 'k2': 1}  (40, 50, 60) 2014-08-02 14:01:06  \n",
       "2  {'k3': 2, 'k1': 0, 'k2': 1}  (70, 80, 90) 2014-08-03 14:01:07  "
      ]
     },
     "execution_count": 262,
     "metadata": {},
     "output_type": "execute_result"
    }
   ],
   "source": [
    "df_pandas = complex_data_df.toPandas()\n",
    "df_pandas"
   ]
  },
  {
   "cell_type": "code",
   "execution_count": 263,
   "id": "edfe4460",
   "metadata": {},
   "outputs": [
    {
     "name": "stdout",
     "output_type": "stream",
     "text": [
      "+---------+-----------+-----------+----------+--------------------+--------------------+------------+-------------------+\n",
      "|col_float|col_integer|col_boolean|col_string|            col_list|            col_dict|     col_row|           col_time|\n",
      "+---------+-----------+-----------+----------+--------------------+--------------------+------------+-------------------+\n",
      "|     1.44|         10|       true|      John|           [1, 2, 3]|           {k1 -> 0}|{10, 20, 30}|2014-08-01 14:01:05|\n",
      "|     1.88|         20|       true|     Alice|     [1, 2, 3, 4, 5]|  {k1 -> 0, k2 -> 1}|{40, 50, 60}|2014-08-02 14:01:06|\n",
      "|     1.83|         30|       true|   Charlee|[1, 2, 3, 4, 5, 6...|{k3 -> 2, k1 -> 0...|{70, 80, 90}|2014-08-03 14:01:07|\n",
      "+---------+-----------+-----------+----------+--------------------+--------------------+------------+-------------------+\n",
      "\n"
     ]
    }
   ],
   "source": [
    "df_spark = sqlcontext.createDataFrame(df_pandas).show()\n",
    "df_spark"
   ]
  },
  {
   "cell_type": "code",
   "execution_count": null,
   "id": "25619d6d",
   "metadata": {},
   "outputs": [],
   "source": []
  },
  {
   "cell_type": "raw",
   "id": "1f34ceca",
   "metadata": {},
   "source": []
  },
  {
   "cell_type": "code",
   "execution_count": null,
   "id": "21b03e0d",
   "metadata": {},
   "outputs": [],
   "source": []
  }
 ],
 "metadata": {
  "kernelspec": {
   "display_name": "Python 3",
   "language": "python",
   "name": "python3"
  },
  "language_info": {
   "codemirror_mode": {
    "name": "ipython",
    "version": 3
   },
   "file_extension": ".py",
   "mimetype": "text/x-python",
   "name": "python",
   "nbconvert_exporter": "python",
   "pygments_lexer": "ipython3",
   "version": "3.8.8"
  }
 },
 "nbformat": 4,
 "nbformat_minor": 5
}
