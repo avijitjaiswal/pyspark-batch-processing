{
 "cells": [
  {
   "cell_type": "code",
   "execution_count": 5,
   "id": "8aa48244",
   "metadata": {},
   "outputs": [],
   "source": [
    "from pyspark.sql import SparkSession"
   ]
  },
  {
   "cell_type": "code",
   "execution_count": 6,
   "id": "7dda236f",
   "metadata": {},
   "outputs": [],
   "source": [
    "spark = SparkSession.builder\\\n",
    "                    .appName(\"Analyzing London Crime Data\")\\\n",
    "                    .getOrCreate()"
   ]
  },
  {
   "cell_type": "code",
   "execution_count": 7,
   "id": "505013ab",
   "metadata": {},
   "outputs": [],
   "source": [
    "data = spark.read\\\n",
    "            .format(\"csv\")\\\n",
    "            .option(\"header\",\"true\")\\\n",
    "            .load(\"../datasets/london_crime_by_lsoa.csv\")"
   ]
  },
  {
   "cell_type": "code",
   "execution_count": 8,
   "id": "4feaa9b6",
   "metadata": {},
   "outputs": [
    {
     "name": "stdout",
     "output_type": "stream",
     "text": [
      "root\n",
      " |-- lsoa_code: string (nullable = true)\n",
      " |-- borough: string (nullable = true)\n",
      " |-- major_category: string (nullable = true)\n",
      " |-- minor_category: string (nullable = true)\n",
      " |-- value: string (nullable = true)\n",
      " |-- year: string (nullable = true)\n",
      " |-- month: string (nullable = true)\n",
      "\n"
     ]
    }
   ],
   "source": [
    "data.printSchema()"
   ]
  },
  {
   "cell_type": "code",
   "execution_count": 9,
   "id": "9cc7e419",
   "metadata": {},
   "outputs": [
    {
     "data": {
      "text/plain": [
       "13490604"
      ]
     },
     "execution_count": 9,
     "metadata": {},
     "output_type": "execute_result"
    }
   ],
   "source": [
    "data.count()"
   ]
  },
  {
   "cell_type": "code",
   "execution_count": 10,
   "id": "d0282cce",
   "metadata": {},
   "outputs": [
    {
     "name": "stdout",
     "output_type": "stream",
     "text": [
      "+---------+----------+--------------------+--------------------+-----+----+-----+\n",
      "|lsoa_code|   borough|      major_category|      minor_category|value|year|month|\n",
      "+---------+----------+--------------------+--------------------+-----+----+-----+\n",
      "|E01001116|   Croydon|            Burglary|Burglary in Other...|    0|2016|   11|\n",
      "|E01001646| Greenwich|Violence Against ...|      Other violence|    0|2016|   11|\n",
      "|E01000677|   Bromley|Violence Against ...|      Other violence|    0|2015|    5|\n",
      "|E01003774| Redbridge|            Burglary|Burglary in Other...|    0|2016|    3|\n",
      "|E01004563|Wandsworth|             Robbery|   Personal Property|    0|2008|    6|\n",
      "+---------+----------+--------------------+--------------------+-----+----+-----+\n",
      "\n"
     ]
    }
   ],
   "source": [
    "data.limit(5).show()"
   ]
  },
  {
   "cell_type": "code",
   "execution_count": 11,
   "id": "a2d0fa87",
   "metadata": {},
   "outputs": [
    {
     "data": {
      "text/plain": [
       "DataFrame[lsoa_code: string, borough: string, major_category: string, minor_category: string, value: string, year: string, month: string]"
      ]
     },
     "execution_count": 11,
     "metadata": {},
     "output_type": "execute_result"
    }
   ],
   "source": [
    "data.dropna()"
   ]
  },
  {
   "cell_type": "code",
   "execution_count": 12,
   "id": "4cd04cf3",
   "metadata": {},
   "outputs": [
    {
     "name": "stdout",
     "output_type": "stream",
     "text": [
      "+----------+--------------------+--------------------+-----+----+-----+\n",
      "|   borough|      major_category|      minor_category|value|year|month|\n",
      "+----------+--------------------+--------------------+-----+----+-----+\n",
      "|   Croydon|            Burglary|Burglary in Other...|    0|2016|   11|\n",
      "| Greenwich|Violence Against ...|      Other violence|    0|2016|   11|\n",
      "|   Bromley|Violence Against ...|      Other violence|    0|2015|    5|\n",
      "| Redbridge|            Burglary|Burglary in Other...|    0|2016|    3|\n",
      "|Wandsworth|             Robbery|   Personal Property|    0|2008|    6|\n",
      "+----------+--------------------+--------------------+-----+----+-----+\n",
      "only showing top 5 rows\n",
      "\n"
     ]
    }
   ],
   "source": [
    "data = data.drop(\"lsoa_code\")\n",
    "data.show(5)"
   ]
  },
  {
   "cell_type": "code",
   "execution_count": 13,
   "id": "ca4f7a32",
   "metadata": {},
   "outputs": [
    {
     "name": "stdout",
     "output_type": "stream",
     "text": [
      "+--------------------+\n",
      "|             borough|\n",
      "+--------------------+\n",
      "|             Croydon|\n",
      "|          Wandsworth|\n",
      "|              Bexley|\n",
      "|             Lambeth|\n",
      "|Barking and Dagenham|\n",
      "|              Camden|\n",
      "|           Greenwich|\n",
      "|              Newham|\n",
      "|       Tower Hamlets|\n",
      "|            Hounslow|\n",
      "|              Barnet|\n",
      "|              Harrow|\n",
      "|Kensington and Ch...|\n",
      "|           Islington|\n",
      "|               Brent|\n",
      "|            Haringey|\n",
      "|             Bromley|\n",
      "|              Merton|\n",
      "|         Westminster|\n",
      "|             Hackney|\n",
      "+--------------------+\n",
      "only showing top 20 rows\n",
      "\n"
     ]
    }
   ],
   "source": [
    "total_boroughs = data.select('borough')\\\n",
    "                        .distinct()\n",
    "total_boroughs.show()"
   ]
  },
  {
   "cell_type": "code",
   "execution_count": 14,
   "id": "9a62fdef",
   "metadata": {},
   "outputs": [
    {
     "data": {
      "text/plain": [
       "33"
      ]
     },
     "execution_count": 14,
     "metadata": {},
     "output_type": "execute_result"
    }
   ],
   "source": [
    "total_boroughs.count()"
   ]
  },
  {
   "cell_type": "code",
   "execution_count": 15,
   "id": "3daf5dd4",
   "metadata": {},
   "outputs": [
    {
     "name": "stdout",
     "output_type": "stream",
     "text": [
      "+-------+--------------------+--------------------+-----+----+-----+\n",
      "|borough|      major_category|      minor_category|value|year|month|\n",
      "+-------+--------------------+--------------------+-----+----+-----+\n",
      "|Hackney|     Criminal Damage|Criminal Damage T...|    0|2011|    6|\n",
      "|Hackney|Violence Against ...|          Harassment|    1|2013|    2|\n",
      "|Hackney|     Criminal Damage|Other Criminal Da...|    0|2011|    7|\n",
      "|Hackney|Violence Against ...|        Wounding/GBH|    0|2013|   12|\n",
      "|Hackney|  Theft and Handling|  Other Theft Person|    0|2016|    8|\n",
      "+-------+--------------------+--------------------+-----+----+-----+\n",
      "only showing top 5 rows\n",
      "\n"
     ]
    }
   ],
   "source": [
    "hackney_data = data.filter(data[\"borough\"] == \"Hackney\")\n",
    "hackney_data.show(5)"
   ]
  },
  {
   "cell_type": "code",
   "execution_count": 16,
   "id": "1880af5b",
   "metadata": {},
   "outputs": [
    {
     "name": "stdout",
     "output_type": "stream",
     "text": [
      "+---------+--------------------+--------------------+-----+----+-----+\n",
      "|  borough|      major_category|      minor_category|value|year|month|\n",
      "+---------+--------------------+--------------------+-----+----+-----+\n",
      "|  Croydon|            Burglary|Burglary in Other...|    0|2016|   11|\n",
      "|Greenwich|Violence Against ...|      Other violence|    0|2016|   11|\n",
      "|  Bromley|Violence Against ...|      Other violence|    0|2015|    5|\n",
      "|Redbridge|            Burglary|Burglary in Other...|    0|2016|    3|\n",
      "|   Sutton|  Theft and Handling|Theft/Taking of P...|    1|2016|    8|\n",
      "+---------+--------------------+--------------------+-----+----+-----+\n",
      "only showing top 5 rows\n",
      "\n"
     ]
    }
   ],
   "source": [
    "data_2015_2016 = data.filter(data[\"year\"].isin([\"2015\",\"2016\"]))\n",
    "data_2015_2016.show(5)"
   ]
  },
  {
   "cell_type": "code",
   "execution_count": 17,
   "id": "7f70679c",
   "metadata": {},
   "outputs": [
    {
     "name": "stdout",
     "output_type": "stream",
     "text": [
      "+--------------------+--------------------+--------------------+-----+----+-----+\n",
      "|             borough|      major_category|      minor_category|value|year|month|\n",
      "+--------------------+--------------------+--------------------+-----+----+-----+\n",
      "|           Greenwich|Violence Against ...|      Other violence|    0|2016|   11|\n",
      "|              Sutton|Violence Against ...|        Wounding/GBH|    0|2016|    7|\n",
      "|             Hackney|             Robbery|   Business Property|    0|2016|    7|\n",
      "|Kingston upon Thames|  Theft and Handling|Motor Vehicle Int...|    0|2016|    5|\n",
      "|               Brent|               Drugs| Possession Of Drugs|    0|2015|   11|\n",
      "|         Westminster|     Criminal Damage|Criminal Damage T...|    0|2015|   12|\n",
      "|              Ealing|Other Notifiable ...|    Other Notifiable|    0|2016|   12|\n",
      "|             Enfield|  Theft and Handling|Theft From Motor ...|    2|2015|   10|\n",
      "|            Havering|Violence Against ...|    Offensive Weapon|    0|2016|   11|\n",
      "|          Wandsworth|Other Notifiable ...|      Going Equipped|    0|2016|    2|\n",
      "|              Merton|Violence Against ...|          Harassment|    1|2015|    6|\n",
      "|           Redbridge|Other Notifiable ...|    Other Notifiable|    0|2016|    5|\n",
      "|             Croydon|Violence Against ...|        Wounding/GBH|    0|2016|   10|\n",
      "|Kingston upon Thames|  Theft and Handling|Motor Vehicle Int...|    1|2015|   12|\n",
      "|       Tower Hamlets|  Theft and Handling|    Theft From Shops|    0|2015|    1|\n",
      "|            Haringey|             Robbery|   Business Property|    0|2015|    8|\n",
      "|Kensington and Ch...|Other Notifiable ...|      Going Equipped|    0|2016|    1|\n",
      "|          Hillingdon|  Theft and Handling|    Theft From Shops|    0|2016|    6|\n",
      "|               Brent|  Theft and Handling|Motor Vehicle Int...|    0|2016|    5|\n",
      "|             Croydon|            Burglary|Burglary in a Dwe...|    0|2016|    9|\n",
      "+--------------------+--------------------+--------------------+-----+----+-----+\n",
      "only showing top 20 rows\n",
      "\n"
     ]
    }
   ],
   "source": [
    "data_2015_2016.sample(fraction=0.1).show()"
   ]
  },
  {
   "cell_type": "code",
   "execution_count": 18,
   "id": "67e46297",
   "metadata": {},
   "outputs": [
    {
     "name": "stdout",
     "output_type": "stream",
     "text": [
      "+--------------------+--------------------+--------------------+-----+----+-----+\n",
      "|             borough|      major_category|      minor_category|value|year|month|\n",
      "+--------------------+--------------------+--------------------+-----+----+-----+\n",
      "|           Redbridge|            Burglary|Burglary in Other...|    0|2016|    3|\n",
      "|             Croydon|  Theft and Handling|Motor Vehicle Int...|    0|2016|    3|\n",
      "|           Islington|     Sexual Offences|        Other Sexual|    0|2016|   10|\n",
      "|Kensington and Ch...|             Robbery|   Personal Property|    1|2015|    7|\n",
      "|          Hillingdon|Violence Against ...|    Offensive Weapon|    0|2014|    5|\n",
      "|             Lambeth|               Drugs|    Drug Trafficking|    0|2015|    9|\n",
      "|             Lambeth|     Criminal Damage|Criminal Damage T...|    0|2016|    7|\n",
      "|              Newham|Violence Against ...|          Harassment|    0|2014|    1|\n",
      "|             Lambeth|     Sexual Offences|                Rape|    0|2014|    3|\n",
      "|         Westminster|               Drugs|    Drug Trafficking|    0|2015|    1|\n",
      "|           Greenwich|             Robbery|   Business Property|    0|2015|   12|\n",
      "|Kingston upon Thames|               Drugs|    Drug Trafficking|    0|2014|    1|\n",
      "|Hammersmith and F...|            Burglary|Burglary in Other...|    0|2015|    3|\n",
      "|      Waltham Forest|Violence Against ...|      Common Assault|    0|2016|    6|\n",
      "|            Havering|Other Notifiable ...|    Other Notifiable|    0|2016|    6|\n",
      "|             Enfield|               Drugs|         Other Drugs|    0|2014|    6|\n",
      "|Barking and Dagenham|  Theft and Handling|         Other Theft|    2|2014|    2|\n",
      "|          Wandsworth|Violence Against ...| Assault with Injury|    0|2014|    9|\n",
      "|              Bexley|            Burglary|Burglary in Other...|    0|2015|    8|\n",
      "|           Redbridge|Other Notifiable ...|      Going Equipped|    0|2015|    9|\n",
      "+--------------------+--------------------+--------------------+-----+----+-----+\n",
      "only showing top 20 rows\n",
      "\n"
     ]
    }
   ],
   "source": [
    "data_2014_onwards = data.filter(data[\"year\"] >= 2014)\n",
    "data_2014_onwards.sample(fraction=0.1).show()"
   ]
  },
  {
   "cell_type": "code",
   "execution_count": 19,
   "id": "1321b7ec",
   "metadata": {},
   "outputs": [
    {
     "name": "stdout",
     "output_type": "stream",
     "text": [
      "+--------------------+------+\n",
      "|             borough| count|\n",
      "+--------------------+------+\n",
      "|             Croydon|602100|\n",
      "|          Wandsworth|498636|\n",
      "|              Bexley|385668|\n",
      "|             Lambeth|519048|\n",
      "|Barking and Dagenham|311040|\n",
      "+--------------------+------+\n",
      "only showing top 5 rows\n",
      "\n"
     ]
    }
   ],
   "source": [
    "borough_crime_count = data.groupBy('borough')\\\n",
    "                          .count()\n",
    "borough_crime_count.show(5)"
   ]
  },
  {
   "cell_type": "code",
   "execution_count": 20,
   "id": "cc1a2b48",
   "metadata": {},
   "outputs": [
    {
     "name": "stdout",
     "output_type": "stream",
     "text": [
      "+--------------------+----------+\n",
      "|             borough|sum(value)|\n",
      "+--------------------+----------+\n",
      "|             Croydon|  260294.0|\n",
      "|          Wandsworth|  204741.0|\n",
      "|              Bexley|  114136.0|\n",
      "|             Lambeth|  292178.0|\n",
      "|Barking and Dagenham|  149447.0|\n",
      "+--------------------+----------+\n",
      "only showing top 5 rows\n",
      "\n"
     ]
    }
   ],
   "source": [
    "borough_conviction_sum = data.groupBy('borough')\\\n",
    "                          .agg({'value':'sum'})\n",
    "borough_conviction_sum.show(5)"
   ]
  },
  {
   "cell_type": "code",
   "execution_count": 21,
   "id": "45885aa8",
   "metadata": {},
   "outputs": [
    {
     "name": "stdout",
     "output_type": "stream",
     "text": [
      "+--------------------+-----------+\n",
      "|             borough|convictions|\n",
      "+--------------------+-----------+\n",
      "|             Croydon|   260294.0|\n",
      "|          Wandsworth|   204741.0|\n",
      "|              Bexley|   114136.0|\n",
      "|             Lambeth|   292178.0|\n",
      "|Barking and Dagenham|   149447.0|\n",
      "+--------------------+-----------+\n",
      "only showing top 5 rows\n",
      "\n"
     ]
    }
   ],
   "source": [
    "borough_conviction_sum = data.groupBy('borough')\\\n",
    "                            .agg({'value':'sum'})\\\n",
    "                            .withColumnRenamed(\"sum(value)\",\"convictions\")\n",
    "borough_conviction_sum.show(5)"
   ]
  },
  {
   "cell_type": "code",
   "execution_count": 22,
   "id": "34411777",
   "metadata": {},
   "outputs": [
    {
     "name": "stdout",
     "output_type": "stream",
     "text": [
      "+-----------------+\n",
      "|total_convictions|\n",
      "+-----------------+\n",
      "|        6447758.0|\n",
      "+-----------------+\n",
      "\n"
     ]
    }
   ],
   "source": [
    "total_borough_convictions = borough_conviction_sum.agg({'convictions':'sum'})\\\n",
    "                            .withColumnRenamed(\"sum(convictions)\",\"total_convictions\")\n",
    "total_borough_convictions.show()"
   ]
  },
  {
   "cell_type": "code",
   "execution_count": 23,
   "id": "0540c71e",
   "metadata": {},
   "outputs": [
    {
     "data": {
      "text/plain": [
       "6447758.0"
      ]
     },
     "execution_count": 23,
     "metadata": {},
     "output_type": "execute_result"
    }
   ],
   "source": [
    "total_convictions = total_borough_convictions.collect()[0][0]\n",
    "total_convictions"
   ]
  },
  {
   "cell_type": "code",
   "execution_count": 24,
   "id": "1b5c9608",
   "metadata": {},
   "outputs": [],
   "source": [
    "import pyspark.sql.functions as func"
   ]
  },
  {
   "cell_type": "code",
   "execution_count": 25,
   "id": "cdde1888",
   "metadata": {},
   "outputs": [
    {
     "name": "stdout",
     "output_type": "stream",
     "text": [
      "root\n",
      " |-- borough: string (nullable = true)\n",
      " |-- convictions: double (nullable = true)\n",
      " |-- % contribution: double (nullable = true)\n",
      "\n"
     ]
    }
   ],
   "source": [
    "borough_percentage_contributions = borough_conviction_sum.withColumn(\n",
    "    \"% contribution\",\n",
    "    func.round(borough_conviction_sum.convictions/total_convictions * 100,2)\n",
    ")\n",
    "borough_percentage_contributions.printSchema()"
   ]
  },
  {
   "cell_type": "code",
   "execution_count": 26,
   "id": "f0b19b19",
   "metadata": {},
   "outputs": [
    {
     "name": "stdout",
     "output_type": "stream",
     "text": [
      "+-------------+-----------+--------------+\n",
      "|      borough|convictions|% contribution|\n",
      "+-------------+-----------+--------------+\n",
      "|  Westminster|   455028.0|          7.06|\n",
      "|      Lambeth|   292178.0|          4.53|\n",
      "|    Southwark|   278809.0|          4.32|\n",
      "|       Camden|   275147.0|          4.27|\n",
      "|       Newham|   262024.0|          4.06|\n",
      "|      Croydon|   260294.0|          4.04|\n",
      "|       Ealing|   251562.0|           3.9|\n",
      "|    Islington|   230286.0|          3.57|\n",
      "|Tower Hamlets|   228613.0|          3.55|\n",
      "|        Brent|   227551.0|          3.53|\n",
      "+-------------+-----------+--------------+\n",
      "only showing top 10 rows\n",
      "\n"
     ]
    }
   ],
   "source": [
    "borough_percentage_contributions.orderBy(borough_percentage_contributions[2].desc())\\\n",
    "                                                .show(10)"
   ]
  },
  {
   "cell_type": "code",
   "execution_count": 27,
   "id": "a1b76843",
   "metadata": {},
   "outputs": [
    {
     "name": "stdout",
     "output_type": "stream",
     "text": [
      "+-----+-----------+\n",
      "|month|convictions|\n",
      "+-----+-----------+\n",
      "|    7|    58564.0|\n",
      "|   11|    59704.0|\n",
      "|    3|    57669.0|\n",
      "|    8|    55641.0|\n",
      "|    5|    56327.0|\n",
      "+-----+-----------+\n",
      "only showing top 5 rows\n",
      "\n"
     ]
    }
   ],
   "source": [
    "conviction_monthly = data.filter(data[\"year\"] == \"2014\")\\\n",
    "                        .groupBy(\"month\")\\\n",
    "                        .agg({\"value\":\"sum\"})\\\n",
    "                        .withColumnRenamed(\"sum(value)\",\"convictions\")\n",
    "conviction_monthly.show(5)"
   ]
  },
  {
   "cell_type": "code",
   "execution_count": 28,
   "id": "b4f5b2e4",
   "metadata": {},
   "outputs": [
    {
     "data": {
      "text/plain": [
       "680183.0"
      ]
     },
     "execution_count": 28,
     "metadata": {},
     "output_type": "execute_result"
    }
   ],
   "source": [
    "total_conviction_monthly_sum = conviction_monthly.agg({\"convictions\" : \"sum\"}).collect()[0][0]\n",
    "total_conviction_monthly_sum"
   ]
  },
  {
   "cell_type": "code",
   "execution_count": 29,
   "id": "54a2094e",
   "metadata": {},
   "outputs": [
    {
     "data": {
      "text/plain": [
       "['month', 'convictions', 'percent']"
      ]
     },
     "execution_count": 29,
     "metadata": {},
     "output_type": "execute_result"
    }
   ],
   "source": [
    "total_conviction_monthly = conviction_monthly.withColumn(\n",
    "                            \"percent\",\n",
    "                            func.round(conviction_monthly.convictions/total_conviction_monthly_sum * 100 , 2))\n",
    "total_conviction_monthly.columns"
   ]
  },
  {
   "cell_type": "code",
   "execution_count": 30,
   "id": "d399fb6a",
   "metadata": {},
   "outputs": [
    {
     "name": "stdout",
     "output_type": "stream",
     "text": [
      "+-----+-----------+-------+\n",
      "|month|convictions|percent|\n",
      "+-----+-----------+-------+\n",
      "|   10|    60537.0|    8.9|\n",
      "|   11|    59704.0|   8.78|\n",
      "|    7|    58564.0|   8.61|\n",
      "|    3|    57669.0|   8.48|\n",
      "|   12|    57565.0|   8.46|\n",
      "|    6|    57039.0|   8.39|\n",
      "|    9|    56933.0|   8.37|\n",
      "|    5|    56327.0|   8.28|\n",
      "|    8|    55641.0|   8.18|\n",
      "|    1|    55515.0|   8.16|\n",
      "|    4|    53467.0|   7.86|\n",
      "|    2|    51222.0|   7.53|\n",
      "+-----+-----------+-------+\n",
      "\n"
     ]
    }
   ],
   "source": [
    "total_conviction_monthly.orderBy(total_conviction_monthly[2].desc()).show()"
   ]
  },
  {
   "cell_type": "code",
   "execution_count": 31,
   "id": "97705649",
   "metadata": {},
   "outputs": [
    {
     "name": "stdout",
     "output_type": "stream",
     "text": [
      "+----------+--------------------+--------------------+-----+----+-----+\n",
      "|   borough|      major_category|      minor_category|value|year|month|\n",
      "+----------+--------------------+--------------------+-----+----+-----+\n",
      "|   Croydon|            Burglary|Burglary in Other...|    0|2016|   11|\n",
      "| Greenwich|Violence Against ...|      Other violence|    0|2016|   11|\n",
      "|   Bromley|Violence Against ...|      Other violence|    0|2015|    5|\n",
      "| Redbridge|            Burglary|Burglary in Other...|    0|2016|    3|\n",
      "|Wandsworth|             Robbery|   Personal Property|    0|2008|    6|\n",
      "|    Ealing|  Theft and Handling|         Other Theft|    0|2012|    5|\n",
      "|    Ealing|Violence Against ...|    Offensive Weapon|    0|2010|    7|\n",
      "|  Hounslow|             Robbery|   Personal Property|    0|2013|    4|\n",
      "|    Newham|     Criminal Damage|Criminal Damage T...|    0|2013|    9|\n",
      "|    Sutton|  Theft and Handling|Theft/Taking of P...|    1|2016|    8|\n",
      "+----------+--------------------+--------------------+-----+----+-----+\n",
      "only showing top 10 rows\n",
      "\n"
     ]
    }
   ],
   "source": [
    "data.show(10)"
   ]
  },
  {
   "cell_type": "code",
   "execution_count": 32,
   "id": "86a4f761",
   "metadata": {},
   "outputs": [
    {
     "name": "stdout",
     "output_type": "stream",
     "text": [
      "+--------------------+-----------+\n",
      "|      major_category|convictions|\n",
      "+--------------------+-----------+\n",
      "|               Drugs|   470765.0|\n",
      "|             Robbery|   258873.0|\n",
      "|  Theft and Handling|  2661861.0|\n",
      "|    Fraud or Forgery|     5325.0|\n",
      "|Violence Against ...|  1558081.0|\n",
      "|            Burglary|   754293.0|\n",
      "|Other Notifiable ...|   106349.0|\n",
      "|     Sexual Offences|     1273.0|\n",
      "|     Criminal Damage|   630938.0|\n",
      "+--------------------+-----------+\n",
      "\n"
     ]
    }
   ],
   "source": [
    "crimes_category = data.groupBy(\"major_category\")\\\n",
    "                    .agg({\"value\" : \"sum\"})\\\n",
    "                    .withColumnRenamed(\"sum(value)\",\"convictions\")\n",
    "crimes_category.show(10)"
   ]
  },
  {
   "cell_type": "code",
   "execution_count": 33,
   "id": "f4cc2aef",
   "metadata": {},
   "outputs": [
    {
     "name": "stdout",
     "output_type": "stream",
     "text": [
      "+--------------------+-----------+\n",
      "|      major_category|convictions|\n",
      "+--------------------+-----------+\n",
      "|  Theft and Handling|  2661861.0|\n",
      "|Violence Against ...|  1558081.0|\n",
      "|            Burglary|   754293.0|\n",
      "|     Criminal Damage|   630938.0|\n",
      "|               Drugs|   470765.0|\n",
      "|             Robbery|   258873.0|\n",
      "|Other Notifiable ...|   106349.0|\n",
      "|    Fraud or Forgery|     5325.0|\n",
      "|     Sexual Offences|     1273.0|\n",
      "+--------------------+-----------+\n",
      "\n"
     ]
    }
   ],
   "source": [
    "crimes_category.orderBy(crimes_category[1].desc()).show(10)"
   ]
  },
  {
   "cell_type": "code",
   "execution_count": 34,
   "id": "0fa7cec9",
   "metadata": {},
   "outputs": [],
   "source": [
    "year_df = data.select(\"year\")"
   ]
  },
  {
   "cell_type": "code",
   "execution_count": 35,
   "id": "33e7fbaf",
   "metadata": {},
   "outputs": [
    {
     "name": "stdout",
     "output_type": "stream",
     "text": [
      "+----+\n",
      "|year|\n",
      "+----+\n",
      "|2016|\n",
      "|2012|\n",
      "|2014|\n",
      "|2013|\n",
      "|2009|\n",
      "|2011|\n",
      "|2008|\n",
      "|2015|\n",
      "|2010|\n",
      "+----+\n",
      "\n"
     ]
    }
   ],
   "source": [
    "year_df.distinct().show()"
   ]
  },
  {
   "cell_type": "code",
   "execution_count": 36,
   "id": "a0c654fd",
   "metadata": {},
   "outputs": [
    {
     "name": "stdout",
     "output_type": "stream",
     "text": [
      "+---------+\n",
      "|min(year)|\n",
      "+---------+\n",
      "|     2008|\n",
      "+---------+\n",
      "\n"
     ]
    }
   ],
   "source": [
    "year_df.agg({\"year\" : \"min\"}).show()"
   ]
  },
  {
   "cell_type": "code",
   "execution_count": 37,
   "id": "ec85bc28",
   "metadata": {},
   "outputs": [
    {
     "name": "stdout",
     "output_type": "stream",
     "text": [
      "+---------+\n",
      "|max(year)|\n",
      "+---------+\n",
      "|     2016|\n",
      "+---------+\n",
      "\n"
     ]
    }
   ],
   "source": [
    "year_df.agg({\"year\" : \"max\"}).show()"
   ]
  },
  {
   "cell_type": "code",
   "execution_count": 38,
   "id": "3c66029d",
   "metadata": {},
   "outputs": [
    {
     "name": "stdout",
     "output_type": "stream",
     "text": [
      "+-------+------------------+\n",
      "|summary|              year|\n",
      "+-------+------------------+\n",
      "|  count|          13490604|\n",
      "|   mean|            2012.0|\n",
      "| stddev|2.5819889931674136|\n",
      "|    min|              2008|\n",
      "|    max|              2016|\n",
      "+-------+------------------+\n",
      "\n"
     ]
    }
   ],
   "source": [
    "year_df.describe().show()"
   ]
  },
  {
   "cell_type": "code",
   "execution_count": 39,
   "id": "ec2d56b1",
   "metadata": {},
   "outputs": [
    {
     "name": "stdout",
     "output_type": "stream",
     "text": [
      "+----------------------+--------+-----+----------------+-------+\n",
      "|borough_major_category|Burglary|Drugs|Fraud or Forgery|Robbery|\n",
      "+----------------------+--------+-----+----------------+-------+\n",
      "|              Havering|   32400|32616|            5508|  27648|\n",
      "|                Merton|   26784|29160|            5724|  23652|\n",
      "|              Haringey|   31320|35424|           10368|  29484|\n",
      "|         Tower Hamlets|   31104|37368|            5400|  28512|\n",
      "|               Bromley|   42552|42336|            8532|  34668|\n",
      "|               Enfield|   39528|44064|            9720|  35532|\n",
      "|  Kingston upon Thames|   21168|22140|            3780|  15660|\n",
      "|           Westminster|   27648|32616|            8748|  25056|\n",
      "|  Richmond upon Thames|   24840|23004|            2808|  18468|\n",
      "|              Lewisham|   36504|43740|           11016|  34884|\n",
      "|                 Brent|   37368|46980|            9288|  34128|\n",
      "|  Barking and Dagenham|   23760|26244|            7236|  22248|\n",
      "|             Redbridge|   34776|36504|            8532|  32400|\n",
      "|             Islington|   26568|34128|            5184|  26244|\n",
      "|               Hackney|   31104|38772|            7560|  29160|\n",
      "|                Newham|   35424|41580|           10692|  34452|\n",
      "|        City of London|     540|  756|               0|    540|\n",
      "|                Sutton|   26136|26784|            3024|  21060|\n",
      "|             Southwark|   35856|45144|           11772|  35316|\n",
      "|                Harrow|   29592|31212|            4752|  23976|\n",
      "+----------------------+--------+-----+----------------+-------+\n",
      "only showing top 20 rows\n",
      "\n"
     ]
    }
   ],
   "source": [
    "data.crosstab(\"borough\",\"major_category\")\\\n",
    "        .select(\"borough_major_category\",\"Burglary\",\"Drugs\",\"Fraud or Forgery\",\"Robbery\")\\\n",
    "        .show()"
   ]
  },
  {
   "cell_type": "code",
   "execution_count": 41,
   "id": "7a3d35ae",
   "metadata": {},
   "outputs": [],
   "source": [
    "get_ipython().magic('matplotlib inline')\n",
    "import matplotlib.pyplot as plt\n",
    "plt.style.use(\"ggplot\")"
   ]
  },
  {
   "cell_type": "code",
   "execution_count": 50,
   "id": "2e933abb",
   "metadata": {},
   "outputs": [],
   "source": [
    "def describe_year(year):\n",
    "    yearly_details = data.filter(data[\"year\"] == year)\\\n",
    "                    .groupBy(\"borough\")\\\n",
    "                    .agg({\"value\" : \"sum\"})\\\n",
    "                    .withColumnRenamed(\"sum(value)\",\"convictions\")\n",
    "    #yearly_details.show()\n",
    "    borough_list = [x[0] for x in yearly_details.toLocalIterator()]\n",
    "    conviction_list = [x[1] for x in yearly_details.toLocalIterator()]\n",
    "    plt.figure(figsize=(33,10))\n",
    "    plt.bar(borough_list,conviction_list)\n",
    "    plt.title(\"Crime for the year \"+ year ,fontsize=30)\n",
    "    plt.xlabel(\"Boroughs\",fontsize=30)\n",
    "    plt.ylabel(\"Convictions\",fontsize=30)\n",
    "    \n",
    "    plt.xticks(rotation=90,fontsize=30)\n",
    "    plt.yticks(fontsize=30)\n",
    "    plt.autoscale()\n",
    "    plt.show()\n",
    "    "
   ]
  },
  {
   "cell_type": "code",
   "execution_count": 52,
   "id": "717c0248",
   "metadata": {},
   "outputs": [
    {
     "data": {
      "image/png": "[encoded data removed]",
      "text/plain": [
       "<Figure size 2376x720 with 1 Axes>"
      ]
     },
     "metadata": {},
     "output_type": "display_data"
    }
   ],
   "source": [
    "describe_year(\"2014\")"
   ]
  },
  {
   "cell_type": "code",
   "execution_count": null,
   "id": "a208c348",
   "metadata": {},
   "outputs": [],
   "source": []
  },
  {
   "cell_type": "code",
   "execution_count": null,
   "id": "219aea93",
   "metadata": {},
   "outputs": [],
   "source": []
  },
  {
   "cell_type": "code",
   "execution_count": null,
   "id": "6e87cbf7",
   "metadata": {},
   "outputs": [],
   "source": []
  },
  {
   "cell_type": "code",
   "execution_count": null,
   "id": "2b040b41",
   "metadata": {},
   "outputs": [],
   "source": []
  },
  {
   "cell_type": "code",
   "execution_count": null,
   "id": "63817914",
   "metadata": {},
   "outputs": [],
   "source": []
  },
  {
   "cell_type": "code",
   "execution_count": null,
   "id": "bb63ec27",
   "metadata": {},
   "outputs": [],
   "source": []
  },
  {
   "cell_type": "code",
   "execution_count": null,
   "id": "a6ac758a",
   "metadata": {},
   "outputs": [],
   "source": []
  },
  {
   "cell_type": "code",
   "execution_count": null,
   "id": "fd450198",
   "metadata": {},
   "outputs": [],
   "source": []
  },
  {
   "cell_type": "code",
   "execution_count": null,
   "id": "82bd65e0",
   "metadata": {},
   "outputs": [],
   "source": []
  },
  {
   "cell_type": "code",
   "execution_count": null,
   "id": "5fb736dd",
   "metadata": {},
   "outputs": [],
   "source": []
  },
  {
   "cell_type": "code",
   "execution_count": null,
   "id": "109d0095",
   "metadata": {},
   "outputs": [],
   "source": []
  },
  {
   "cell_type": "code",
   "execution_count": null,
   "id": "5dd0d696",
   "metadata": {},
   "outputs": [],
   "source": []
  },
  {
   "cell_type": "code",
   "execution_count": null,
   "id": "ab6eeaff",
   "metadata": {},
   "outputs": [],
   "source": []
  },
  {
   "cell_type": "code",
   "execution_count": null,
   "id": "14372a22",
   "metadata": {},
   "outputs": [],
   "source": []
  },
  {
   "cell_type": "code",
   "execution_count": null,
   "id": "44e8bcd1",
   "metadata": {},
   "outputs": [],
   "source": []
  },
  {
   "cell_type": "code",
   "execution_count": null,
   "id": "86034da6",
   "metadata": {},
   "outputs": [],
   "source": []
  },
  {
   "cell_type": "code",
   "execution_count": null,
   "id": "09c54eed",
   "metadata": {},
   "outputs": [],
   "source": []
  },
  {
   "cell_type": "code",
   "execution_count": null,
   "id": "d366232f",
   "metadata": {},
   "outputs": [],
   "source": []
  },
  {
   "cell_type": "code",
   "execution_count": null,
   "id": "ba0c14d6",
   "metadata": {},
   "outputs": [],
   "source": []
  },
  {
   "cell_type": "code",
   "execution_count": null,
   "id": "dd7cdcb3",
   "metadata": {},
   "outputs": [],
   "source": []
  },
  {
   "cell_type": "code",
   "execution_count": null,
   "id": "65c53755",
   "metadata": {},
   "outputs": [],
   "source": []
  },
  {
   "cell_type": "code",
   "execution_count": null,
   "id": "0413a427",
   "metadata": {},
   "outputs": [],
   "source": []
  },
  {
   "cell_type": "code",
   "execution_count": null,
   "id": "42c14a14",
   "metadata": {},
   "outputs": [],
   "source": []
  },
  {
   "cell_type": "code",
   "execution_count": null,
   "id": "7c3d44a8",
   "metadata": {},
   "outputs": [],
   "source": []
  }
 ],
 "metadata": {
  "kernelspec": {
   "display_name": "Python 3",
   "language": "python",
   "name": "python3"
  },
  "language_info": {
   "codemirror_mode": {
    "name": "ipython",
    "version": 3
   },
   "file_extension": ".py",
   "mimetype": "text/x-python",
   "name": "python",
   "nbconvert_exporter": "python",
   "pygments_lexer": "ipython3",
   "version": "3.8.8"
  }
 },
 "nbformat": 4,
 "nbformat_minor": 5
}
