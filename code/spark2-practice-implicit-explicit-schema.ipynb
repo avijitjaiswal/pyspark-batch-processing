{
 "cells": [
  {
   "cell_type": "code",
   "execution_count": 1,
   "id": "56e767a5",
   "metadata": {},
   "outputs": [],
   "source": [
    "from pyspark.sql import SparkSession"
   ]
  },
  {
   "cell_type": "code",
   "execution_count": 2,
   "id": "8b599136",
   "metadata": {},
   "outputs": [],
   "source": [
    "spark = SparkSession.builder\\\n",
    "                    .appName(\"Inferred and explicit schemas\")\\\n",
    "                    .getOrCreate()"
   ]
  },
  {
   "cell_type": "code",
   "execution_count": 3,
   "id": "7281321b",
   "metadata": {},
   "outputs": [],
   "source": [
    "from pyspark.sql.types import Row"
   ]
  },
  {
   "cell_type": "code",
   "execution_count": 4,
   "id": "10efe569",
   "metadata": {},
   "outputs": [],
   "source": [
    "lines = sc.textFile(\"../datasets/students.txt\")"
   ]
  },
  {
   "cell_type": "code",
   "execution_count": 5,
   "id": "22b55e1c",
   "metadata": {},
   "outputs": [
    {
     "data": {
      "text/plain": [
       "['Emily,44,55,78', 'Andy,47,34,89', 'Rick,55,78,55', 'Aaron,66,34,98']"
      ]
     },
     "execution_count": 5,
     "metadata": {},
     "output_type": "execute_result"
    }
   ],
   "source": [
    "lines.collect()"
   ]
  },
  {
   "cell_type": "code",
   "execution_count": 7,
   "id": "1ced7990",
   "metadata": {},
   "outputs": [
    {
     "data": {
      "text/plain": [
       "[['Emily', '44', '55', '78'],\n",
       " ['Andy', '47', '34', '89'],\n",
       " ['Rick', '55', '78', '55'],\n",
       " ['Aaron', '66', '34', '98']]"
      ]
     },
     "execution_count": 7,
     "metadata": {},
     "output_type": "execute_result"
    }
   ],
   "source": [
    "parts = lines.map(lambda l: l.split(\",\"))\n",
    "parts.collect()"
   ]
  },
  {
   "cell_type": "code",
   "execution_count": 8,
   "id": "cce26274",
   "metadata": {},
   "outputs": [],
   "source": [
    "students = parts.map(lambda p: Row(name=p[0], math=int(p[1]), english=int(p[2]), science=int(p[3])))"
   ]
  },
  {
   "cell_type": "code",
   "execution_count": 9,
   "id": "733f06c5",
   "metadata": {},
   "outputs": [
    {
     "data": {
      "text/plain": [
       "[Row(name='Emily', math=44, english=55, science=78),\n",
       " Row(name='Andy', math=47, english=34, science=89),\n",
       " Row(name='Rick', math=55, english=78, science=55),\n",
       " Row(name='Aaron', math=66, english=34, science=98)]"
      ]
     },
     "execution_count": 9,
     "metadata": {},
     "output_type": "execute_result"
    }
   ],
   "source": [
    "students.collect()"
   ]
  },
  {
   "cell_type": "code",
   "execution_count": 10,
   "id": "2e9eda66",
   "metadata": {},
   "outputs": [],
   "source": [
    "schemaStudents = spark.createDataFrame(students)\n",
    "schemaStudents.createOrReplaceTempView(\"students\")"
   ]
  },
  {
   "cell_type": "code",
   "execution_count": 11,
   "id": "65b0c4b7",
   "metadata": {},
   "outputs": [
    {
     "data": {
      "text/plain": [
       "['name', 'math', 'english', 'science']"
      ]
     },
     "execution_count": 11,
     "metadata": {},
     "output_type": "execute_result"
    }
   ],
   "source": [
    "schemaStudents.columns"
   ]
  },
  {
   "cell_type": "code",
   "execution_count": 12,
   "id": "a17cc470",
   "metadata": {},
   "outputs": [
    {
     "data": {
      "text/plain": [
       "StructType(List(StructField(name,StringType,true),StructField(math,LongType,true),StructField(english,LongType,true),StructField(science,LongType,true)))"
      ]
     },
     "execution_count": 12,
     "metadata": {},
     "output_type": "execute_result"
    }
   ],
   "source": [
    "schemaStudents.schema"
   ]
  },
  {
   "cell_type": "code",
   "execution_count": 13,
   "id": "61f53bf9",
   "metadata": {},
   "outputs": [
    {
     "name": "stdout",
     "output_type": "stream",
     "text": [
      "+-----+----+-------+-------+\n",
      "| name|math|english|science|\n",
      "+-----+----+-------+-------+\n",
      "|Emily|  44|     55|     78|\n",
      "| Andy|  47|     34|     89|\n",
      "| Rick|  55|     78|     55|\n",
      "|Aaron|  66|     34|     98|\n",
      "+-----+----+-------+-------+\n",
      "\n"
     ]
    }
   ],
   "source": [
    "spark.sql(\"SELECT * FROM students\").show()"
   ]
  },
  {
   "cell_type": "code",
   "execution_count": 14,
   "id": "c3a3741f",
   "metadata": {},
   "outputs": [
    {
     "data": {
      "text/plain": [
       "[['Emily', '44', '55', '78'],\n",
       " ['Andy', '47', '34', '89'],\n",
       " ['Rick', '55', '78', '55'],\n",
       " ['Aaron', '66', '34', '98']]"
      ]
     },
     "execution_count": 14,
     "metadata": {},
     "output_type": "execute_result"
    }
   ],
   "source": [
    "parts.collect()"
   ]
  },
  {
   "cell_type": "code",
   "execution_count": 15,
   "id": "e7d69083",
   "metadata": {},
   "outputs": [],
   "source": [
    "schemaString = \"name math english science\""
   ]
  },
  {
   "cell_type": "code",
   "execution_count": 16,
   "id": "808b1327",
   "metadata": {},
   "outputs": [],
   "source": [
    " from pyspark.sql.types import StructType, StructField, StringType, LongType\n",
    "\n",
    "fields = [StructField('name', StringType(), True),\n",
    "          StructField('math', LongType(), True),\n",
    "          StructField('english', LongType(), True),\n",
    "          StructField('science', LongType(), True),\n",
    "]"
   ]
  },
  {
   "cell_type": "code",
   "execution_count": 17,
   "id": "3fb73c09",
   "metadata": {},
   "outputs": [],
   "source": [
    "schema = StructType(fields)"
   ]
  },
  {
   "cell_type": "code",
   "execution_count": 18,
   "id": "6eca3e4c",
   "metadata": {},
   "outputs": [],
   "source": [
    "schemaStudents = spark.createDataFrame(parts, schema)"
   ]
  },
  {
   "cell_type": "code",
   "execution_count": 19,
   "id": "c687f920",
   "metadata": {},
   "outputs": [
    {
     "data": {
      "text/plain": [
       "['name', 'math', 'english', 'science']"
      ]
     },
     "execution_count": 19,
     "metadata": {},
     "output_type": "execute_result"
    }
   ],
   "source": [
    "schemaStudents.columns"
   ]
  },
  {
   "cell_type": "code",
   "execution_count": 20,
   "id": "13c31247",
   "metadata": {},
   "outputs": [
    {
     "data": {
      "text/plain": [
       "StructType(List(StructField(name,StringType,true),StructField(math,LongType,true),StructField(english,LongType,true),StructField(science,LongType,true)))"
      ]
     },
     "execution_count": 20,
     "metadata": {},
     "output_type": "execute_result"
    }
   ],
   "source": [
    "schemaStudents.schema"
   ]
  },
  {
   "cell_type": "code",
   "execution_count": 21,
   "id": "a73c345b",
   "metadata": {},
   "outputs": [
    {
     "name": "stdout",
     "output_type": "stream",
     "text": [
      "+-----+----+-------+-------+\n",
      "| name|math|english|science|\n",
      "+-----+----+-------+-------+\n",
      "|Emily|  44|     55|     78|\n",
      "| Andy|  47|     34|     89|\n",
      "| Rick|  55|     78|     55|\n",
      "|Aaron|  66|     34|     98|\n",
      "+-----+----+-------+-------+\n",
      "\n"
     ]
    }
   ],
   "source": [
    "spark.sql(\"SELECT * FROM students\").show()"
   ]
  },
  {
   "cell_type": "code",
   "execution_count": null,
   "id": "93cbe2ca",
   "metadata": {},
   "outputs": [],
   "source": []
  },
  {
   "cell_type": "code",
   "execution_count": null,
   "id": "18403712",
   "metadata": {},
   "outputs": [],
   "source": []
  },
  {
   "cell_type": "code",
   "execution_count": null,
   "id": "35b42688",
   "metadata": {},
   "outputs": [],
   "source": []
  },
  {
   "cell_type": "code",
   "execution_count": null,
   "id": "3d5a6d8c",
   "metadata": {},
   "outputs": [],
   "source": []
  },
  {
   "cell_type": "code",
   "execution_count": null,
   "id": "4f54636e",
   "metadata": {},
   "outputs": [],
   "source": []
  },
  {
   "cell_type": "code",
   "execution_count": null,
   "id": "d804004c",
   "metadata": {},
   "outputs": [],
   "source": []
  },
  {
   "cell_type": "code",
   "execution_count": null,
   "id": "5712e0b8",
   "metadata": {},
   "outputs": [],
   "source": []
  },
  {
   "cell_type": "code",
   "execution_count": null,
   "id": "035d6521",
   "metadata": {},
   "outputs": [],
   "source": []
  }
 ],
 "metadata": {
  "kernelspec": {
   "display_name": "Python 3",
   "language": "python",
   "name": "python3"
  },
  "language_info": {
   "codemirror_mode": {
    "name": "ipython",
    "version": 3
   },
   "file_extension": ".py",
   "mimetype": "text/x-python",
   "name": "python",
   "nbconvert_exporter": "python",
   "pygments_lexer": "ipython3",
   "version": "3.8.8"
  }
 },
 "nbformat": 4,
 "nbformat_minor": 5
}
