{
 "cells": [
  {
   "cell_type": "code",
   "execution_count": 1,
   "id": "eb23788a",
   "metadata": {},
   "outputs": [],
   "source": [
    "from pyspark.sql import SparkSession"
   ]
  },
  {
   "cell_type": "code",
   "execution_count": 2,
   "id": "c0d05b8a",
   "metadata": {},
   "outputs": [],
   "source": [
    "spark = SparkSession.builder\\\n",
    "                    .appName(\"Analyzing Airline Data\")\\\n",
    "                    .getOrCreate()"
   ]
  },
  {
   "cell_type": "code",
   "execution_count": 3,
   "id": "186eefa7",
   "metadata": {},
   "outputs": [],
   "source": [
    "from pyspark.sql.types import Row\n",
    "from datetime import datetime"
   ]
  },
  {
   "cell_type": "code",
   "execution_count": 4,
   "id": "10b6d40f",
   "metadata": {},
   "outputs": [],
   "source": [
    "record = sc.parallelize([Row(id = 1,\n",
    "                             name = \"Jill\",\n",
    "                             active = True,\n",
    "                             clubs = ['chess', 'hockey'],\n",
    "                             subjects = {\"math\": 80, 'english': 56},\n",
    "                             enrolled = datetime(2014, 8, 1, 14, 1, 5)),\n",
    "                         Row(id = 2,\n",
    "                             name = \"George\",\n",
    "                             active = False,\n",
    "                             clubs = ['chess', 'soccer'],\n",
    "                             subjects = {\"math\": 60, 'english': 96},\n",
    "                             enrolled = datetime(2015, 3, 21, 8, 2, 5))\n",
    "])"
   ]
  },
  {
   "cell_type": "code",
   "execution_count": 5,
   "id": "a0d56a9f",
   "metadata": {},
   "outputs": [
    {
     "name": "stdout",
     "output_type": "stream",
     "text": [
      "+---+------+------+---------------+--------------------+-------------------+\n",
      "| id|  name|active|          clubs|            subjects|           enrolled|\n",
      "+---+------+------+---------------+--------------------+-------------------+\n",
      "|  1|  Jill|  true|[chess, hockey]|{english -> 56, m...|2014-08-01 14:01:05|\n",
      "|  2|George| false|[chess, soccer]|{english -> 96, m...|2015-03-21 08:02:05|\n",
      "+---+------+------+---------------+--------------------+-------------------+\n",
      "\n"
     ]
    }
   ],
   "source": [
    "record_df = record.toDF()\n",
    "record_df.show()"
   ]
  },
  {
   "cell_type": "code",
   "execution_count": 6,
   "id": "bc3c0538",
   "metadata": {},
   "outputs": [],
   "source": [
    "record_df.createOrReplaceTempView(\"records\")"
   ]
  },
  {
   "cell_type": "code",
   "execution_count": 7,
   "id": "33755bec",
   "metadata": {},
   "outputs": [
    {
     "name": "stdout",
     "output_type": "stream",
     "text": [
      "+---+------+------+---------------+--------------------+-------------------+\n",
      "| id|  name|active|          clubs|            subjects|           enrolled|\n",
      "+---+------+------+---------------+--------------------+-------------------+\n",
      "|  1|  Jill|  true|[chess, hockey]|{english -> 56, m...|2014-08-01 14:01:05|\n",
      "|  2|George| false|[chess, soccer]|{english -> 96, m...|2015-03-21 08:02:05|\n",
      "+---+------+------+---------------+--------------------+-------------------+\n",
      "\n"
     ]
    }
   ],
   "source": [
    "all_records_df = sqlContext.sql('SELECT * FROM records')\n",
    "\n",
    "all_records_df.show()"
   ]
  },
  {
   "cell_type": "code",
   "execution_count": 8,
   "id": "3b17c43b",
   "metadata": {},
   "outputs": [
    {
     "name": "stdout",
     "output_type": "stream",
     "text": [
      "+---+--------+-----------------+\n",
      "| id|clubs[1]|subjects[english]|\n",
      "+---+--------+-----------------+\n",
      "|  1|  hockey|               56|\n",
      "|  2|  soccer|               96|\n",
      "+---+--------+-----------------+\n",
      "\n"
     ]
    }
   ],
   "source": [
    "sqlContext.sql('SELECT id, clubs[1], subjects[\"english\"] FROM records').show()"
   ]
  },
  {
   "cell_type": "code",
   "execution_count": 9,
   "id": "97ed0e09",
   "metadata": {},
   "outputs": [
    {
     "name": "stdout",
     "output_type": "stream",
     "text": [
      "+---+------------+\n",
      "| id|(NOT active)|\n",
      "+---+------------+\n",
      "|  1|       false|\n",
      "|  2|        true|\n",
      "+---+------------+\n",
      "\n"
     ]
    }
   ],
   "source": [
    "sqlContext.sql('SELECT id, NOT active FROM records').show()"
   ]
  },
  {
   "cell_type": "code",
   "execution_count": 10,
   "id": "786670e2",
   "metadata": {},
   "outputs": [
    {
     "name": "stdout",
     "output_type": "stream",
     "text": [
      "+---+----+------+---------------+--------------------+-------------------+\n",
      "| id|name|active|          clubs|            subjects|           enrolled|\n",
      "+---+----+------+---------------+--------------------+-------------------+\n",
      "|  1|Jill|  true|[chess, hockey]|{english -> 56, m...|2014-08-01 14:01:05|\n",
      "+---+----+------+---------------+--------------------+-------------------+\n",
      "\n"
     ]
    }
   ],
   "source": [
    "sqlContext.sql('SELECT * FROM records where active').show()"
   ]
  },
  {
   "cell_type": "code",
   "execution_count": 11,
   "id": "3eb9d23a",
   "metadata": {},
   "outputs": [
    {
     "name": "stdout",
     "output_type": "stream",
     "text": [
      "+---+------+------+---------------+--------------------+-------------------+\n",
      "| id|  name|active|          clubs|            subjects|           enrolled|\n",
      "+---+------+------+---------------+--------------------+-------------------+\n",
      "|  2|George| false|[chess, soccer]|{english -> 96, m...|2015-03-21 08:02:05|\n",
      "+---+------+------+---------------+--------------------+-------------------+\n",
      "\n"
     ]
    }
   ],
   "source": [
    "sqlContext.sql('SELECT * FROM records where subjects[\"english\"] > 90').show()"
   ]
  },
  {
   "cell_type": "code",
   "execution_count": 14,
   "id": "742d41cc",
   "metadata": {},
   "outputs": [],
   "source": [
    "#record_df.createGlobalTempView(\"global_records\")\n",
    "#sqlContext.sql('SELECT * FROM global_temp.global_records').show()"
   ]
  },
  {
   "cell_type": "code",
   "execution_count": 15,
   "id": "4187b3d9",
   "metadata": {},
   "outputs": [],
   "source": [
    "airlinesPath = \"../datasets/airlines.csv\"\n",
    "flightsPath = \"../datasets/flights.csv\"\n",
    "airportsPath = \"../datasets/airports.csv\""
   ]
  },
  {
   "cell_type": "code",
   "execution_count": 16,
   "id": "2fb056df",
   "metadata": {},
   "outputs": [],
   "source": [
    "airlines = spark.read\\\n",
    "            .format(\"csv\")\\\n",
    "            .option(\"header\", \"true\")\\\n",
    "            .load(airlinesPath)"
   ]
  },
  {
   "cell_type": "code",
   "execution_count": 17,
   "id": "0c7d8341",
   "metadata": {},
   "outputs": [],
   "source": [
    "airlines.createOrReplaceTempView(\"airlines\")"
   ]
  },
  {
   "cell_type": "code",
   "execution_count": 18,
   "id": "f4719e8b",
   "metadata": {},
   "outputs": [
    {
     "data": {
      "text/plain": [
       "['Code', 'Description']"
      ]
     },
     "execution_count": 18,
     "metadata": {},
     "output_type": "execute_result"
    }
   ],
   "source": [
    "airlines = spark.sql(\"SELECT * FROM airlines\")\n",
    "airlines.columns"
   ]
  },
  {
   "cell_type": "code",
   "execution_count": 19,
   "id": "f4eb34e9",
   "metadata": {},
   "outputs": [
    {
     "name": "stdout",
     "output_type": "stream",
     "text": [
      "+-----+--------------------+\n",
      "| Code|         Description|\n",
      "+-----+--------------------+\n",
      "|19031|Mackey Internatio...|\n",
      "|19032|Munz Northern Air...|\n",
      "|19033|Cochise Airlines ...|\n",
      "|19034|Golden Gate Airli...|\n",
      "|19035|  Aeromech Inc.: RZZ|\n",
      "+-----+--------------------+\n",
      "only showing top 5 rows\n",
      "\n"
     ]
    }
   ],
   "source": [
    "airlines.show(5)"
   ]
  },
  {
   "cell_type": "code",
   "execution_count": 20,
   "id": "7b3f88f3",
   "metadata": {},
   "outputs": [],
   "source": [
    "flights = spark.read\\\n",
    "            .format(\"csv\")\\\n",
    "            .option(\"header\", \"true\")\\\n",
    "            .load(flightsPath)"
   ]
  },
  {
   "cell_type": "code",
   "execution_count": 21,
   "id": "d924d9f9",
   "metadata": {},
   "outputs": [
    {
     "data": {
      "text/plain": [
       "['date',\n",
       " 'airlines',\n",
       " 'flight_number',\n",
       " 'origin',\n",
       " 'destination',\n",
       " 'departure',\n",
       " 'departure_delay',\n",
       " 'arrival',\n",
       " 'arrival_delay',\n",
       " 'air_time',\n",
       " 'distance']"
      ]
     },
     "execution_count": 21,
     "metadata": {},
     "output_type": "execute_result"
    }
   ],
   "source": [
    "flights.createOrReplaceTempView(\"flights\")\n",
    "\n",
    "flights.columns"
   ]
  },
  {
   "cell_type": "code",
   "execution_count": 22,
   "id": "5f0c65d7",
   "metadata": {},
   "outputs": [
    {
     "name": "stdout",
     "output_type": "stream",
     "text": [
      "+----------+--------+-------------+------+-----------+---------+---------------+-------+-------------+--------+--------+\n",
      "|      date|airlines|flight_number|origin|destination|departure|departure_delay|arrival|arrival_delay|air_time|distance|\n",
      "+----------+--------+-------------+------+-----------+---------+---------------+-------+-------------+--------+--------+\n",
      "|2014-04-01|   19805|            1|   JFK|        LAX|     0854|          -6.00|   1217|         2.00|  355.00| 2475.00|\n",
      "|2014-04-01|   19805|            2|   LAX|        JFK|     0944|          14.00|   1736|       -29.00|  269.00| 2475.00|\n",
      "|2014-04-01|   19805|            3|   JFK|        LAX|     1224|          -6.00|   1614|        39.00|  371.00| 2475.00|\n",
      "|2014-04-01|   19805|            4|   LAX|        JFK|     1240|          25.00|   2028|       -27.00|  264.00| 2475.00|\n",
      "|2014-04-01|   19805|            5|   DFW|        HNL|     1300|          -5.00|   1650|        15.00|  510.00| 3784.00|\n",
      "+----------+--------+-------------+------+-----------+---------+---------------+-------+-------------+--------+--------+\n",
      "only showing top 5 rows\n",
      "\n"
     ]
    }
   ],
   "source": [
    "flights.show(5)"
   ]
  },
  {
   "cell_type": "code",
   "execution_count": 23,
   "id": "7571ace0",
   "metadata": {},
   "outputs": [
    {
     "data": {
      "text/plain": [
       "(476881, 1579)"
      ]
     },
     "execution_count": 23,
     "metadata": {},
     "output_type": "execute_result"
    }
   ],
   "source": [
    "flights.count(), airlines.count()"
   ]
  },
  {
   "cell_type": "code",
   "execution_count": 24,
   "id": "1b3555ae",
   "metadata": {},
   "outputs": [],
   "source": [
    "flights_count = spark.sql(\"SELECT COUNT(*) FROM flights\")\n",
    "airlines_count = spark.sql(\"SELECT COUNT(*) FROM airlines\")"
   ]
  },
  {
   "cell_type": "code",
   "execution_count": 25,
   "id": "94a6e4da",
   "metadata": {},
   "outputs": [
    {
     "data": {
      "text/plain": [
       "(DataFrame[count(1): bigint], DataFrame[count(1): bigint])"
      ]
     },
     "execution_count": 25,
     "metadata": {},
     "output_type": "execute_result"
    }
   ],
   "source": [
    "flights_count, airlines_count"
   ]
  },
  {
   "cell_type": "code",
   "execution_count": 26,
   "id": "c0489b73",
   "metadata": {},
   "outputs": [
    {
     "data": {
      "text/plain": [
       "(476881, 1579)"
      ]
     },
     "execution_count": 26,
     "metadata": {},
     "output_type": "execute_result"
    }
   ],
   "source": [
    "flights_count.collect()[0][0], airlines_count.collect()[0][0]"
   ]
  },
  {
   "cell_type": "code",
   "execution_count": 33,
   "id": "e5e6e635",
   "metadata": {},
   "outputs": [],
   "source": [
    "total_distance_df = spark.sql(\"SELECT distance FROM flights\")\\\n",
    "                        .agg({\"distance\":\"sum\"})\\\n",
    "                        .withColumnRenamed(\"sum(distance)\",\"total_distance\")"
   ]
  },
  {
   "cell_type": "code",
   "execution_count": 34,
   "id": "ddcb4696",
   "metadata": {},
   "outputs": [
    {
     "name": "stdout",
     "output_type": "stream",
     "text": [
      "+--------------+\n",
      "|total_distance|\n",
      "+--------------+\n",
      "|  3.79052917E8|\n",
      "+--------------+\n",
      "\n"
     ]
    }
   ],
   "source": [
    "total_distance_df.show()"
   ]
  },
  {
   "cell_type": "code",
   "execution_count": 32,
   "id": "a423ff91",
   "metadata": {},
   "outputs": [
    {
     "data": {
      "text/plain": [
       "'\\ntotal_distance_df = flights.select(\"distance\")                        .agg({\"distance\":\"sum\"})                        .withColumnRenamed(\"sum(distance)\",\"total_distance\")\\n\\ntotal_distance_df.show()\\n'"
      ]
     },
     "execution_count": 32,
     "metadata": {},
     "output_type": "execute_result"
    }
   ],
   "source": [
    "\"\"\"\n",
    "total_distance_df = flights.select(\"distance\")\\\n",
    "                        .agg({\"distance\":\"sum\"})\\\n",
    "                        .withColumnRenamed(\"sum(distance)\",\"total_distance\")\n",
    "\n",
    "total_distance_df.show()\n",
    "\"\"\""
   ]
  },
  {
   "cell_type": "code",
   "execution_count": 35,
   "id": "870658e1",
   "metadata": {},
   "outputs": [],
   "source": [
    "all_delays_2012 = spark.sql(\n",
    "    \"SELECT date, airlines, flight_number, departure_delay \" +\n",
    "    \"FROM flights WHERE departure_delay > 0 and year(date) = 2012\")"
   ]
  },
  {
   "cell_type": "code",
   "execution_count": 36,
   "id": "d110d6ea",
   "metadata": {},
   "outputs": [
    {
     "name": "stdout",
     "output_type": "stream",
     "text": [
      "+----+--------+-------------+---------------+\n",
      "|date|airlines|flight_number|departure_delay|\n",
      "+----+--------+-------------+---------------+\n",
      "+----+--------+-------------+---------------+\n",
      "\n"
     ]
    }
   ],
   "source": [
    "all_delays_2012.show(5)"
   ]
  },
  {
   "cell_type": "code",
   "execution_count": 37,
   "id": "ea049e82",
   "metadata": {},
   "outputs": [
    {
     "name": "stdout",
     "output_type": "stream",
     "text": [
      "+----------+--------+-------------+---------------+\n",
      "|      date|airlines|flight_number|departure_delay|\n",
      "+----------+--------+-------------+---------------+\n",
      "|2014-04-01|   19805|            2|          14.00|\n",
      "|2014-04-01|   19805|            4|          25.00|\n",
      "|2014-04-01|   19805|            6|         126.00|\n",
      "|2014-04-01|   19805|            7|         125.00|\n",
      "|2014-04-01|   19805|            8|           4.00|\n",
      "+----------+--------+-------------+---------------+\n",
      "only showing top 5 rows\n",
      "\n"
     ]
    }
   ],
   "source": [
    "all_delays_2014 = spark.sql(\n",
    "    \"SELECT date, airlines, flight_number, departure_delay \" +\n",
    "    \"FROM flights WHERE departure_delay > 0 and year(date) = 2014\")\n",
    "\n",
    "all_delays_2014.show(5)"
   ]
  },
  {
   "cell_type": "code",
   "execution_count": 38,
   "id": "d959ea05",
   "metadata": {},
   "outputs": [],
   "source": [
    "all_delays_2014.createOrReplaceTempView(\"all_delays\")"
   ]
  },
  {
   "cell_type": "code",
   "execution_count": 39,
   "id": "90d166ca",
   "metadata": {},
   "outputs": [
    {
     "name": "stdout",
     "output_type": "stream",
     "text": [
      "+----------+--------+-------------+---------------+\n",
      "|      date|airlines|flight_number|departure_delay|\n",
      "+----------+--------+-------------+---------------+\n",
      "|2014-04-28|   19393|          388|          99.00|\n",
      "|2014-04-28|   19393|          768|          99.00|\n",
      "|2014-04-29|   20409|         1780|          99.00|\n",
      "|2014-04-29|   19805|         2311|          99.00|\n",
      "|2014-04-29|   20366|         4187|          99.00|\n",
      "+----------+--------+-------------+---------------+\n",
      "only showing top 5 rows\n",
      "\n"
     ]
    }
   ],
   "source": [
    "all_delays_2014.orderBy(all_delays_2014.departure_delay.desc()).show(5)"
   ]
  },
  {
   "cell_type": "code",
   "execution_count": 40,
   "id": "ff50c234",
   "metadata": {},
   "outputs": [],
   "source": [
    "delay_count = spark.sql(\"SELECT COUNT(departure_delay) FROM all_delays\")"
   ]
  },
  {
   "cell_type": "code",
   "execution_count": 41,
   "id": "5fa1914f",
   "metadata": {},
   "outputs": [
    {
     "name": "stdout",
     "output_type": "stream",
     "text": [
      "+----------------------+\n",
      "|count(departure_delay)|\n",
      "+----------------------+\n",
      "|                179015|\n",
      "+----------------------+\n",
      "\n"
     ]
    }
   ],
   "source": [
    "delay_count.show()"
   ]
  },
  {
   "cell_type": "code",
   "execution_count": 42,
   "id": "a3c7cc59",
   "metadata": {},
   "outputs": [
    {
     "data": {
      "text/plain": [
       "179015"
      ]
     },
     "execution_count": 42,
     "metadata": {},
     "output_type": "execute_result"
    }
   ],
   "source": [
    "delay_count.collect()[0][0]"
   ]
  },
  {
   "cell_type": "code",
   "execution_count": 43,
   "id": "113e9325",
   "metadata": {},
   "outputs": [
    {
     "data": {
      "text/plain": [
       "37.53871510922012"
      ]
     },
     "execution_count": 43,
     "metadata": {},
     "output_type": "execute_result"
    }
   ],
   "source": [
    "delay_percent = delay_count.collect()[0][0] / flights_count.collect()[0][0] * 100\n",
    "delay_percent"
   ]
  },
  {
   "cell_type": "code",
   "execution_count": 45,
   "id": "512fdaed",
   "metadata": {},
   "outputs": [],
   "source": [
    "delay_per_airline = spark.sql(\"SELECT airlines, departure_delay FROM flights\")\\\n",
    "                        .groupBy(\"airlines\")\\\n",
    "                        .agg({\"departure_delay\":\"avg\"})\\\n",
    "                        .withColumnRenamed(\"avg(departure_delay)\", \"departure_delay\")"
   ]
  },
  {
   "cell_type": "code",
   "execution_count": 46,
   "id": "cf01162c",
   "metadata": {},
   "outputs": [
    {
     "name": "stdout",
     "output_type": "stream",
     "text": [
      "+--------+------------------+\n",
      "|airlines|   departure_delay|\n",
      "+--------+------------------+\n",
      "|   19393|13.429567657134724|\n",
      "|   20366|12.296210112379818|\n",
      "|   19977| 8.818392620527979|\n",
      "|   20436| 8.716275167785234|\n",
      "|   20409|  8.31110357194785|\n",
      "+--------+------------------+\n",
      "only showing top 5 rows\n",
      "\n"
     ]
    }
   ],
   "source": [
    "delay_per_airline.orderBy(delay_per_airline.departure_delay.desc()).show(5)"
   ]
  },
  {
   "cell_type": "code",
   "execution_count": 47,
   "id": "f2888d96",
   "metadata": {},
   "outputs": [],
   "source": [
    "delay_per_airline.createOrReplaceTempView(\"delay_per_airline\")"
   ]
  },
  {
   "cell_type": "code",
   "execution_count": 48,
   "id": "31e1ec1c",
   "metadata": {},
   "outputs": [],
   "source": [
    "delay_per_airline = spark.sql(\"SELECT * FROM delay_per_airline ORDER BY departure_delay DESC\")"
   ]
  },
  {
   "cell_type": "code",
   "execution_count": 49,
   "id": "7929a1e2",
   "metadata": {},
   "outputs": [
    {
     "name": "stdout",
     "output_type": "stream",
     "text": [
      "+--------+------------------+\n",
      "|airlines|   departure_delay|\n",
      "+--------+------------------+\n",
      "|   19393|13.429567657134724|\n",
      "|   20366|12.296210112379818|\n",
      "|   19977| 8.818392620527979|\n",
      "|   20436| 8.716275167785234|\n",
      "|   20409|  8.31110357194785|\n",
      "+--------+------------------+\n",
      "only showing top 5 rows\n",
      "\n"
     ]
    }
   ],
   "source": [
    "delay_per_airline.show(5)"
   ]
  },
  {
   "cell_type": "code",
   "execution_count": 50,
   "id": "a7d2d3e4",
   "metadata": {},
   "outputs": [
    {
     "name": "stdout",
     "output_type": "stream",
     "text": [
      "+--------+------------------+-----+--------------------+\n",
      "|airlines|   departure_delay| Code|         Description|\n",
      "+--------+------------------+-----+--------------------+\n",
      "|   19393|13.429567657134724|19393|Southwest Airline...|\n",
      "|   20366|12.296210112379818|20366|ExpressJet Airlin...|\n",
      "|   19977| 8.818392620527979|19977|United Air Lines ...|\n",
      "|   20436| 8.716275167785234|20436|Frontier Airlines...|\n",
      "|   20409|  8.31110357194785|20409| JetBlue Airways: B6|\n",
      "+--------+------------------+-----+--------------------+\n",
      "only showing top 5 rows\n",
      "\n"
     ]
    }
   ],
   "source": [
    "delay_per_airline = spark.sql(\"SELECT * FROM delay_per_airline \" +\n",
    "                              \"JOIN airlines ON airlines.code = delay_per_airline.airlines \" +\n",
    "                              \"ORDER BY departure_delay DESC\")\n",
    "\n",
    "delay_per_airline.show(5)"
   ]
  },
  {
   "cell_type": "code",
   "execution_count": 51,
   "id": "2bc1eca0",
   "metadata": {},
   "outputs": [
    {
     "name": "stdout",
     "output_type": "stream",
     "text": [
      "+--------+------------------+--------------------+\n",
      "|airlines|   departure_delay|         Description|\n",
      "+--------+------------------+--------------------+\n",
      "|   19393|13.429567657134724|Southwest Airline...|\n",
      "|   20366|12.296210112379818|ExpressJet Airlin...|\n",
      "|   19977| 8.818392620527979|United Air Lines ...|\n",
      "|   20436| 8.716275167785234|Frontier Airlines...|\n",
      "|   20409|  8.31110357194785| JetBlue Airways: B6|\n",
      "+--------+------------------+--------------------+\n",
      "only showing top 5 rows\n",
      "\n"
     ]
    }
   ],
   "source": [
    "delay_per_airline.drop(\"code\").show(5)"
   ]
  },
  {
   "cell_type": "code",
   "execution_count": null,
   "id": "7ee1520b",
   "metadata": {},
   "outputs": [],
   "source": []
  },
  {
   "cell_type": "code",
   "execution_count": null,
   "id": "ae1d6188",
   "metadata": {},
   "outputs": [],
   "source": []
  },
  {
   "cell_type": "code",
   "execution_count": null,
   "id": "bb6bb761",
   "metadata": {},
   "outputs": [],
   "source": []
  },
  {
   "cell_type": "code",
   "execution_count": null,
   "id": "74ff4fbc",
   "metadata": {},
   "outputs": [],
   "source": []
  },
  {
   "cell_type": "code",
   "execution_count": null,
   "id": "30fadbaa",
   "metadata": {},
   "outputs": [],
   "source": []
  },
  {
   "cell_type": "code",
   "execution_count": null,
   "id": "b36fe6e4",
   "metadata": {},
   "outputs": [],
   "source": []
  },
  {
   "cell_type": "code",
   "execution_count": null,
   "id": "7316942c",
   "metadata": {},
   "outputs": [],
   "source": []
  },
  {
   "cell_type": "code",
   "execution_count": null,
   "id": "232e1169",
   "metadata": {},
   "outputs": [],
   "source": []
  }
 ],
 "metadata": {
  "kernelspec": {
   "display_name": "Python 3",
   "language": "python",
   "name": "python3"
  },
  "language_info": {
   "codemirror_mode": {
    "name": "ipython",
    "version": 3
   },
   "file_extension": ".py",
   "mimetype": "text/x-python",
   "name": "python",
   "nbconvert_exporter": "python",
   "pygments_lexer": "ipython3",
   "version": "3.8.8"
  }
 },
 "nbformat": 4,
 "nbformat_minor": 5
}
