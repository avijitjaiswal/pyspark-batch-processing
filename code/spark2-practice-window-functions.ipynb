{
 "cells": [
  {
   "cell_type": "code",
   "execution_count": 1,
   "id": "ab627292",
   "metadata": {},
   "outputs": [],
   "source": [
    "from pyspark.sql import SparkSession"
   ]
  },
  {
   "cell_type": "code",
   "execution_count": 2,
   "id": "659e73f3",
   "metadata": {},
   "outputs": [],
   "source": [
    "spark = SparkSession.builder\\\n",
    "                    .appName(\"Window functions\")\\\n",
    "                    .getOrCreate()"
   ]
  },
  {
   "cell_type": "code",
   "execution_count": 3,
   "id": "6f6dba41",
   "metadata": {},
   "outputs": [],
   "source": [
    "products = spark.read\\\n",
    "                .format(\"csv\")\\\n",
    "                .option(\"header\", \"true\")\\\n",
    "                .load('../datasets/products.csv')"
   ]
  },
  {
   "cell_type": "code",
   "execution_count": 4,
   "id": "7e5bd746",
   "metadata": {},
   "outputs": [
    {
     "name": "stdout",
     "output_type": "stream",
     "text": [
      "+----------+--------+-----+\n",
      "|   product|category|price|\n",
      "+----------+--------+-----+\n",
      "|Samsung TX|  Tablet|  999|\n",
      "|Samsung JX|  Mobile|  799|\n",
      "|Redmi Note|  Mobile|  399|\n",
      "|        Mi|  Mobile|  299|\n",
      "|      iPad|  Tablet|  789|\n",
      "|    iPhone|  Mobile|  999|\n",
      "|  Micromax|  Mobile|  249|\n",
      "|    Lenovo|  Tablet|  499|\n",
      "|   OnePlus|  Mobile|  356|\n",
      "|        Xu|  Tablet|  267|\n",
      "+----------+--------+-----+\n",
      "\n"
     ]
    }
   ],
   "source": [
    "products.show()"
   ]
  },
  {
   "cell_type": "code",
   "execution_count": 5,
   "id": "a47f515a",
   "metadata": {},
   "outputs": [],
   "source": [
    "import sys\n",
    "from pyspark.sql.window import Window\n",
    "import pyspark.sql.functions as func"
   ]
  },
  {
   "cell_type": "code",
   "execution_count": 6,
   "id": "14a970c9",
   "metadata": {},
   "outputs": [],
   "source": [
    "windowSpec1 = Window.partitionBy(products['category'])\\\n",
    "                    .orderBy(products['price'].desc())"
   ]
  },
  {
   "cell_type": "code",
   "execution_count": 7,
   "id": "a8f8e887",
   "metadata": {},
   "outputs": [],
   "source": [
    "price_rank = (func.rank().over(windowSpec1))"
   ]
  },
  {
   "cell_type": "code",
   "execution_count": 8,
   "id": "3e6558f2",
   "metadata": {},
   "outputs": [
    {
     "name": "stdout",
     "output_type": "stream",
     "text": [
      "+----------+--------+-----+----+\n",
      "|   product|category|price|rank|\n",
      "+----------+--------+-----+----+\n",
      "|    iPhone|  Mobile|  999|   1|\n",
      "|Samsung JX|  Mobile|  799|   2|\n",
      "|Redmi Note|  Mobile|  399|   3|\n",
      "|   OnePlus|  Mobile|  356|   4|\n",
      "|        Mi|  Mobile|  299|   5|\n",
      "|  Micromax|  Mobile|  249|   6|\n",
      "|Samsung TX|  Tablet|  999|   1|\n",
      "|      iPad|  Tablet|  789|   2|\n",
      "|    Lenovo|  Tablet|  499|   3|\n",
      "|        Xu|  Tablet|  267|   4|\n",
      "+----------+--------+-----+----+\n",
      "\n"
     ]
    }
   ],
   "source": [
    "product_rank = products.select(\n",
    "        products['product'],\n",
    "        products['category'],\n",
    "        products['price']\n",
    ").withColumn('rank', func.rank().over(windowSpec1))\n",
    "\n",
    "product_rank.show()"
   ]
  },
  {
   "cell_type": "code",
   "execution_count": 10,
   "id": "1ca37a8e",
   "metadata": {},
   "outputs": [],
   "source": [
    "windowSpec2 = Window.partitionBy(products['category'])\\\n",
    "                    .orderBy(products['price'].desc())\\\n",
    "                    .rowsBetween(-1, 0)"
   ]
  },
  {
   "cell_type": "code",
   "execution_count": 11,
   "id": "ea5f3adc",
   "metadata": {},
   "outputs": [],
   "source": [
    "price_max = (func.max(products['price']).over(windowSpec2))"
   ]
  },
  {
   "cell_type": "code",
   "execution_count": 12,
   "id": "2a6f449b",
   "metadata": {},
   "outputs": [
    {
     "name": "stdout",
     "output_type": "stream",
     "text": [
      "+----------+--------+-----+---------+\n",
      "|   product|category|price|price_max|\n",
      "+----------+--------+-----+---------+\n",
      "|    iPhone|  Mobile|  999|      999|\n",
      "|Samsung JX|  Mobile|  799|      999|\n",
      "|Redmi Note|  Mobile|  399|      799|\n",
      "|   OnePlus|  Mobile|  356|      399|\n",
      "|        Mi|  Mobile|  299|      356|\n",
      "|  Micromax|  Mobile|  249|      299|\n",
      "|Samsung TX|  Tablet|  999|      999|\n",
      "|      iPad|  Tablet|  789|      999|\n",
      "|    Lenovo|  Tablet|  499|      789|\n",
      "|        Xu|  Tablet|  267|      499|\n",
      "+----------+--------+-----+---------+\n",
      "\n"
     ]
    }
   ],
   "source": [
    "products.select(\n",
    "    products['product'],\n",
    "    products['category'],\n",
    "    products['price'],\n",
    "    price_max.alias(\"price_max\")).show()"
   ]
  },
  {
   "cell_type": "code",
   "execution_count": 13,
   "id": "cf6a7d39",
   "metadata": {},
   "outputs": [],
   "source": [
    "windowSpec3 = Window.partitionBy(products['category'])\\\n",
    "                    .orderBy(products['price'].desc())\\\n",
    "                    .rangeBetween(-sys.maxsize, sys.maxsize)"
   ]
  },
  {
   "cell_type": "code",
   "execution_count": 15,
   "id": "4f9e1d53",
   "metadata": {},
   "outputs": [],
   "source": [
    "price_difference = (func.max(products['price']).over(windowSpec3) - products['price'])"
   ]
  },
  {
   "cell_type": "code",
   "execution_count": 16,
   "id": "4c9203df",
   "metadata": {},
   "outputs": [
    {
     "name": "stdout",
     "output_type": "stream",
     "text": [
      "+----------+--------+-----+----------------+\n",
      "|   product|category|price|price_difference|\n",
      "+----------+--------+-----+----------------+\n",
      "|    iPhone|  Mobile|  999|             0.0|\n",
      "|Samsung JX|  Mobile|  799|           200.0|\n",
      "|Redmi Note|  Mobile|  399|           600.0|\n",
      "|   OnePlus|  Mobile|  356|           643.0|\n",
      "|        Mi|  Mobile|  299|           700.0|\n",
      "|  Micromax|  Mobile|  249|           750.0|\n",
      "|Samsung TX|  Tablet|  999|             0.0|\n",
      "|      iPad|  Tablet|  789|           210.0|\n",
      "|    Lenovo|  Tablet|  499|           500.0|\n",
      "|        Xu|  Tablet|  267|           732.0|\n",
      "+----------+--------+-----+----------------+\n",
      "\n"
     ]
    }
   ],
   "source": [
    "products.select(\n",
    "    products['product'],\n",
    "    products['category'],\n",
    "    products['price'],\n",
    "    price_difference.alias(\"price_difference\")).show()"
   ]
  },
  {
   "cell_type": "code",
   "execution_count": 18,
   "id": "b0f3cce3",
   "metadata": {},
   "outputs": [],
   "source": [
    "windowSpec4 = Window.partitionBy(products['category'])\\\n",
    "                    .orderBy(products['price'].asc())\\\n",
    "                    .rangeBetween(0, sys.maxsize)"
   ]
  },
  {
   "cell_type": "code",
   "execution_count": 19,
   "id": "bb3f4119",
   "metadata": {},
   "outputs": [
    {
     "data": {
      "text/plain": [
       "9223372036854775807"
      ]
     },
     "execution_count": 19,
     "metadata": {},
     "output_type": "execute_result"
    }
   ],
   "source": [
    "sys.maxsize"
   ]
  },
  {
   "cell_type": "code",
   "execution_count": 20,
   "id": "e59aa9c9",
   "metadata": {},
   "outputs": [],
   "source": [
    "price_max = (func.max(products['price']).over(windowSpec4))"
   ]
  },
  {
   "cell_type": "code",
   "execution_count": 21,
   "id": "f05bf0bf",
   "metadata": {},
   "outputs": [
    {
     "name": "stdout",
     "output_type": "stream",
     "text": [
      "+----------+--------+-----+---------+\n",
      "|   product|category|price|price_max|\n",
      "+----------+--------+-----+---------+\n",
      "|  Micromax|  Mobile|  249|      999|\n",
      "|        Mi|  Mobile|  299|      999|\n",
      "|   OnePlus|  Mobile|  356|      999|\n",
      "|Redmi Note|  Mobile|  399|      999|\n",
      "|Samsung JX|  Mobile|  799|      999|\n",
      "|    iPhone|  Mobile|  999|      999|\n",
      "|        Xu|  Tablet|  267|      999|\n",
      "|    Lenovo|  Tablet|  499|      999|\n",
      "|      iPad|  Tablet|  789|      999|\n",
      "|Samsung TX|  Tablet|  999|      999|\n",
      "+----------+--------+-----+---------+\n",
      "\n"
     ]
    }
   ],
   "source": [
    "products.select(\n",
    "    products['product'],\n",
    "    products['category'],\n",
    "    products['price'],\n",
    "    price_max.alias(\"price_max\")).show()"
   ]
  },
  {
   "cell_type": "code",
   "execution_count": null,
   "id": "52f6e31f",
   "metadata": {},
   "outputs": [],
   "source": []
  },
  {
   "cell_type": "code",
   "execution_count": null,
   "id": "d6127e4d",
   "metadata": {},
   "outputs": [],
   "source": []
  }
 ],
 "metadata": {
  "kernelspec": {
   "display_name": "Python 3",
   "language": "python",
   "name": "python3"
  },
  "language_info": {
   "codemirror_mode": {
    "name": "ipython",
    "version": 3
   },
   "file_extension": ".py",
   "mimetype": "text/x-python",
   "name": "python",
   "nbconvert_exporter": "python",
   "pygments_lexer": "ipython3",
   "version": "3.8.8"
  }
 },
 "nbformat": 4,
 "nbformat_minor": 5
}
